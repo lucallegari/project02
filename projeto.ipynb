{
 "cells": [
  {
   "cell_type": "code",
   "execution_count": 2,
   "metadata": {},
   "outputs": [],
   "source": [
    "import pandas as pd\n",
    "import numpy as np\n",
    "import matplotlib.pyplot as plt\n",
    "from matplotlib.ticker import FuncFormatter\n",
    "import plotly.express as px\n",
    "import plotly.graph_objects as go\n",
    "import missingno as msno\n",
    "from collections import Counter\n",
    "import warnings\n",
    "warnings.filterwarnings(\"ignore\")\n",
    "import datetime\n",
    "import seaborn as sns"
   ]
  },
  {
   "cell_type": "code",
   "execution_count": 3,
   "metadata": {},
   "outputs": [],
   "source": [
    "df_songs = pd.read_csv(\"songs_normalize.csv\")"
   ]
  },
  {
   "cell_type": "code",
   "execution_count": 4,
   "metadata": {},
   "outputs": [
    {
     "data": {
      "text/html": [
       "<div>\n",
       "<style scoped>\n",
       "    .dataframe tbody tr th:only-of-type {\n",
       "        vertical-align: middle;\n",
       "    }\n",
       "\n",
       "    .dataframe tbody tr th {\n",
       "        vertical-align: top;\n",
       "    }\n",
       "\n",
       "    .dataframe thead th {\n",
       "        text-align: right;\n",
       "    }\n",
       "</style>\n",
       "<table border=\"1\" class=\"dataframe\">\n",
       "  <thead>\n",
       "    <tr style=\"text-align: right;\">\n",
       "      <th></th>\n",
       "      <th>artist</th>\n",
       "      <th>song</th>\n",
       "      <th>duration_ms</th>\n",
       "      <th>explicit</th>\n",
       "      <th>year</th>\n",
       "      <th>popularity</th>\n",
       "      <th>danceability</th>\n",
       "      <th>energy</th>\n",
       "      <th>key</th>\n",
       "      <th>loudness</th>\n",
       "      <th>mode</th>\n",
       "      <th>speechiness</th>\n",
       "      <th>acousticness</th>\n",
       "      <th>instrumentalness</th>\n",
       "      <th>liveness</th>\n",
       "      <th>valence</th>\n",
       "      <th>tempo</th>\n",
       "      <th>genre</th>\n",
       "    </tr>\n",
       "  </thead>\n",
       "  <tbody>\n",
       "    <tr>\n",
       "      <th>0</th>\n",
       "      <td>Britney Spears</td>\n",
       "      <td>Oops!...I Did It Again</td>\n",
       "      <td>211160</td>\n",
       "      <td>False</td>\n",
       "      <td>2000</td>\n",
       "      <td>77</td>\n",
       "      <td>0.751</td>\n",
       "      <td>0.834</td>\n",
       "      <td>1</td>\n",
       "      <td>-5.444</td>\n",
       "      <td>0</td>\n",
       "      <td>0.0437</td>\n",
       "      <td>0.3000</td>\n",
       "      <td>0.000018</td>\n",
       "      <td>0.3550</td>\n",
       "      <td>0.894</td>\n",
       "      <td>95.053</td>\n",
       "      <td>pop</td>\n",
       "    </tr>\n",
       "    <tr>\n",
       "      <th>1</th>\n",
       "      <td>blink-182</td>\n",
       "      <td>All The Small Things</td>\n",
       "      <td>167066</td>\n",
       "      <td>False</td>\n",
       "      <td>1999</td>\n",
       "      <td>79</td>\n",
       "      <td>0.434</td>\n",
       "      <td>0.897</td>\n",
       "      <td>0</td>\n",
       "      <td>-4.918</td>\n",
       "      <td>1</td>\n",
       "      <td>0.0488</td>\n",
       "      <td>0.0103</td>\n",
       "      <td>0.000000</td>\n",
       "      <td>0.6120</td>\n",
       "      <td>0.684</td>\n",
       "      <td>148.726</td>\n",
       "      <td>rock, pop</td>\n",
       "    </tr>\n",
       "    <tr>\n",
       "      <th>2</th>\n",
       "      <td>Faith Hill</td>\n",
       "      <td>Breathe</td>\n",
       "      <td>250546</td>\n",
       "      <td>False</td>\n",
       "      <td>1999</td>\n",
       "      <td>66</td>\n",
       "      <td>0.529</td>\n",
       "      <td>0.496</td>\n",
       "      <td>7</td>\n",
       "      <td>-9.007</td>\n",
       "      <td>1</td>\n",
       "      <td>0.0290</td>\n",
       "      <td>0.1730</td>\n",
       "      <td>0.000000</td>\n",
       "      <td>0.2510</td>\n",
       "      <td>0.278</td>\n",
       "      <td>136.859</td>\n",
       "      <td>pop, country</td>\n",
       "    </tr>\n",
       "    <tr>\n",
       "      <th>3</th>\n",
       "      <td>Bon Jovi</td>\n",
       "      <td>It's My Life</td>\n",
       "      <td>224493</td>\n",
       "      <td>False</td>\n",
       "      <td>2000</td>\n",
       "      <td>78</td>\n",
       "      <td>0.551</td>\n",
       "      <td>0.913</td>\n",
       "      <td>0</td>\n",
       "      <td>-4.063</td>\n",
       "      <td>0</td>\n",
       "      <td>0.0466</td>\n",
       "      <td>0.0263</td>\n",
       "      <td>0.000013</td>\n",
       "      <td>0.3470</td>\n",
       "      <td>0.544</td>\n",
       "      <td>119.992</td>\n",
       "      <td>rock, metal</td>\n",
       "    </tr>\n",
       "    <tr>\n",
       "      <th>4</th>\n",
       "      <td>*NSYNC</td>\n",
       "      <td>Bye Bye Bye</td>\n",
       "      <td>200560</td>\n",
       "      <td>False</td>\n",
       "      <td>2000</td>\n",
       "      <td>65</td>\n",
       "      <td>0.614</td>\n",
       "      <td>0.928</td>\n",
       "      <td>8</td>\n",
       "      <td>-4.806</td>\n",
       "      <td>0</td>\n",
       "      <td>0.0516</td>\n",
       "      <td>0.0408</td>\n",
       "      <td>0.001040</td>\n",
       "      <td>0.0845</td>\n",
       "      <td>0.879</td>\n",
       "      <td>172.656</td>\n",
       "      <td>pop</td>\n",
       "    </tr>\n",
       "  </tbody>\n",
       "</table>\n",
       "</div>"
      ],
      "text/plain": [
       "           artist                    song  duration_ms  explicit  year  \\\n",
       "0  Britney Spears  Oops!...I Did It Again       211160     False  2000   \n",
       "1       blink-182    All The Small Things       167066     False  1999   \n",
       "2      Faith Hill                 Breathe       250546     False  1999   \n",
       "3        Bon Jovi            It's My Life       224493     False  2000   \n",
       "4          *NSYNC             Bye Bye Bye       200560     False  2000   \n",
       "\n",
       "   popularity  danceability  energy  key  loudness  mode  speechiness  \\\n",
       "0          77         0.751   0.834    1    -5.444     0       0.0437   \n",
       "1          79         0.434   0.897    0    -4.918     1       0.0488   \n",
       "2          66         0.529   0.496    7    -9.007     1       0.0290   \n",
       "3          78         0.551   0.913    0    -4.063     0       0.0466   \n",
       "4          65         0.614   0.928    8    -4.806     0       0.0516   \n",
       "\n",
       "   acousticness  instrumentalness  liveness  valence    tempo         genre  \n",
       "0        0.3000          0.000018    0.3550    0.894   95.053           pop  \n",
       "1        0.0103          0.000000    0.6120    0.684  148.726     rock, pop  \n",
       "2        0.1730          0.000000    0.2510    0.278  136.859  pop, country  \n",
       "3        0.0263          0.000013    0.3470    0.544  119.992   rock, metal  \n",
       "4        0.0408          0.001040    0.0845    0.879  172.656           pop  "
      ]
     },
     "execution_count": 4,
     "metadata": {},
     "output_type": "execute_result"
    }
   ],
   "source": [
    "df_songs.head()"
   ]
  },
  {
   "cell_type": "code",
   "execution_count": 5,
   "metadata": {},
   "outputs": [
    {
     "data": {
      "text/html": [
       "<div>\n",
       "<style scoped>\n",
       "    .dataframe tbody tr th:only-of-type {\n",
       "        vertical-align: middle;\n",
       "    }\n",
       "\n",
       "    .dataframe tbody tr th {\n",
       "        vertical-align: top;\n",
       "    }\n",
       "\n",
       "    .dataframe thead th {\n",
       "        text-align: right;\n",
       "    }\n",
       "</style>\n",
       "<table border=\"1\" class=\"dataframe\">\n",
       "  <thead>\n",
       "    <tr style=\"text-align: right;\">\n",
       "      <th></th>\n",
       "      <th>duration_ms</th>\n",
       "      <th>year</th>\n",
       "      <th>popularity</th>\n",
       "      <th>danceability</th>\n",
       "      <th>energy</th>\n",
       "      <th>key</th>\n",
       "      <th>loudness</th>\n",
       "      <th>mode</th>\n",
       "      <th>speechiness</th>\n",
       "      <th>acousticness</th>\n",
       "      <th>instrumentalness</th>\n",
       "      <th>liveness</th>\n",
       "      <th>valence</th>\n",
       "      <th>tempo</th>\n",
       "    </tr>\n",
       "  </thead>\n",
       "  <tbody>\n",
       "    <tr>\n",
       "      <th>count</th>\n",
       "      <td>2000.000000</td>\n",
       "      <td>2000.00000</td>\n",
       "      <td>2000.000000</td>\n",
       "      <td>2000.000000</td>\n",
       "      <td>2000.000000</td>\n",
       "      <td>2000.000000</td>\n",
       "      <td>2000.000000</td>\n",
       "      <td>2000.000000</td>\n",
       "      <td>2000.000000</td>\n",
       "      <td>2000.000000</td>\n",
       "      <td>2000.000000</td>\n",
       "      <td>2000.000000</td>\n",
       "      <td>2000.000000</td>\n",
       "      <td>2000.000000</td>\n",
       "    </tr>\n",
       "    <tr>\n",
       "      <th>mean</th>\n",
       "      <td>228748.124500</td>\n",
       "      <td>2009.49400</td>\n",
       "      <td>59.872500</td>\n",
       "      <td>0.667438</td>\n",
       "      <td>0.720366</td>\n",
       "      <td>5.378000</td>\n",
       "      <td>-5.512434</td>\n",
       "      <td>0.553500</td>\n",
       "      <td>0.103568</td>\n",
       "      <td>0.128955</td>\n",
       "      <td>0.015226</td>\n",
       "      <td>0.181216</td>\n",
       "      <td>0.551690</td>\n",
       "      <td>120.122558</td>\n",
       "    </tr>\n",
       "    <tr>\n",
       "      <th>std</th>\n",
       "      <td>39136.569008</td>\n",
       "      <td>5.85996</td>\n",
       "      <td>21.335577</td>\n",
       "      <td>0.140416</td>\n",
       "      <td>0.152745</td>\n",
       "      <td>3.615059</td>\n",
       "      <td>1.933482</td>\n",
       "      <td>0.497254</td>\n",
       "      <td>0.096159</td>\n",
       "      <td>0.173346</td>\n",
       "      <td>0.087771</td>\n",
       "      <td>0.140669</td>\n",
       "      <td>0.220864</td>\n",
       "      <td>26.967112</td>\n",
       "    </tr>\n",
       "    <tr>\n",
       "      <th>min</th>\n",
       "      <td>113000.000000</td>\n",
       "      <td>1998.00000</td>\n",
       "      <td>0.000000</td>\n",
       "      <td>0.129000</td>\n",
       "      <td>0.054900</td>\n",
       "      <td>0.000000</td>\n",
       "      <td>-20.514000</td>\n",
       "      <td>0.000000</td>\n",
       "      <td>0.023200</td>\n",
       "      <td>0.000019</td>\n",
       "      <td>0.000000</td>\n",
       "      <td>0.021500</td>\n",
       "      <td>0.038100</td>\n",
       "      <td>60.019000</td>\n",
       "    </tr>\n",
       "    <tr>\n",
       "      <th>25%</th>\n",
       "      <td>203580.000000</td>\n",
       "      <td>2004.00000</td>\n",
       "      <td>56.000000</td>\n",
       "      <td>0.581000</td>\n",
       "      <td>0.622000</td>\n",
       "      <td>2.000000</td>\n",
       "      <td>-6.490250</td>\n",
       "      <td>0.000000</td>\n",
       "      <td>0.039600</td>\n",
       "      <td>0.014000</td>\n",
       "      <td>0.000000</td>\n",
       "      <td>0.088100</td>\n",
       "      <td>0.386750</td>\n",
       "      <td>98.985750</td>\n",
       "    </tr>\n",
       "    <tr>\n",
       "      <th>50%</th>\n",
       "      <td>223279.500000</td>\n",
       "      <td>2010.00000</td>\n",
       "      <td>65.500000</td>\n",
       "      <td>0.676000</td>\n",
       "      <td>0.736000</td>\n",
       "      <td>6.000000</td>\n",
       "      <td>-5.285000</td>\n",
       "      <td>1.000000</td>\n",
       "      <td>0.059850</td>\n",
       "      <td>0.055700</td>\n",
       "      <td>0.000000</td>\n",
       "      <td>0.124000</td>\n",
       "      <td>0.557500</td>\n",
       "      <td>120.021500</td>\n",
       "    </tr>\n",
       "    <tr>\n",
       "      <th>75%</th>\n",
       "      <td>248133.000000</td>\n",
       "      <td>2015.00000</td>\n",
       "      <td>73.000000</td>\n",
       "      <td>0.764000</td>\n",
       "      <td>0.839000</td>\n",
       "      <td>8.000000</td>\n",
       "      <td>-4.167750</td>\n",
       "      <td>1.000000</td>\n",
       "      <td>0.129000</td>\n",
       "      <td>0.176250</td>\n",
       "      <td>0.000068</td>\n",
       "      <td>0.241000</td>\n",
       "      <td>0.730000</td>\n",
       "      <td>134.265500</td>\n",
       "    </tr>\n",
       "    <tr>\n",
       "      <th>max</th>\n",
       "      <td>484146.000000</td>\n",
       "      <td>2020.00000</td>\n",
       "      <td>89.000000</td>\n",
       "      <td>0.975000</td>\n",
       "      <td>0.999000</td>\n",
       "      <td>11.000000</td>\n",
       "      <td>-0.276000</td>\n",
       "      <td>1.000000</td>\n",
       "      <td>0.576000</td>\n",
       "      <td>0.976000</td>\n",
       "      <td>0.985000</td>\n",
       "      <td>0.853000</td>\n",
       "      <td>0.973000</td>\n",
       "      <td>210.851000</td>\n",
       "    </tr>\n",
       "  </tbody>\n",
       "</table>\n",
       "</div>"
      ],
      "text/plain": [
       "         duration_ms        year   popularity  danceability       energy  \\\n",
       "count    2000.000000  2000.00000  2000.000000   2000.000000  2000.000000   \n",
       "mean   228748.124500  2009.49400    59.872500      0.667438     0.720366   \n",
       "std     39136.569008     5.85996    21.335577      0.140416     0.152745   \n",
       "min    113000.000000  1998.00000     0.000000      0.129000     0.054900   \n",
       "25%    203580.000000  2004.00000    56.000000      0.581000     0.622000   \n",
       "50%    223279.500000  2010.00000    65.500000      0.676000     0.736000   \n",
       "75%    248133.000000  2015.00000    73.000000      0.764000     0.839000   \n",
       "max    484146.000000  2020.00000    89.000000      0.975000     0.999000   \n",
       "\n",
       "               key     loudness         mode  speechiness  acousticness  \\\n",
       "count  2000.000000  2000.000000  2000.000000  2000.000000   2000.000000   \n",
       "mean      5.378000    -5.512434     0.553500     0.103568      0.128955   \n",
       "std       3.615059     1.933482     0.497254     0.096159      0.173346   \n",
       "min       0.000000   -20.514000     0.000000     0.023200      0.000019   \n",
       "25%       2.000000    -6.490250     0.000000     0.039600      0.014000   \n",
       "50%       6.000000    -5.285000     1.000000     0.059850      0.055700   \n",
       "75%       8.000000    -4.167750     1.000000     0.129000      0.176250   \n",
       "max      11.000000    -0.276000     1.000000     0.576000      0.976000   \n",
       "\n",
       "       instrumentalness     liveness      valence        tempo  \n",
       "count       2000.000000  2000.000000  2000.000000  2000.000000  \n",
       "mean           0.015226     0.181216     0.551690   120.122558  \n",
       "std            0.087771     0.140669     0.220864    26.967112  \n",
       "min            0.000000     0.021500     0.038100    60.019000  \n",
       "25%            0.000000     0.088100     0.386750    98.985750  \n",
       "50%            0.000000     0.124000     0.557500   120.021500  \n",
       "75%            0.000068     0.241000     0.730000   134.265500  \n",
       "max            0.985000     0.853000     0.973000   210.851000  "
      ]
     },
     "execution_count": 5,
     "metadata": {},
     "output_type": "execute_result"
    }
   ],
   "source": [
    "df_songs.describe()"
   ]
  },
  {
   "cell_type": "code",
   "execution_count": 6,
   "metadata": {},
   "outputs": [
    {
     "data": {
      "image/png": "[encoded data removed]",
      "text/plain": [
       "<Figure size 1800x720 with 2 Axes>"
      ]
     },
     "metadata": {
      "needs_background": "light"
     },
     "output_type": "display_data"
    }
   ],
   "source": [
    "msno.matrix(df_songs)\n",
    "plt.show()"
   ]
  },
  {
   "cell_type": "code",
   "execution_count": 7,
   "metadata": {},
   "outputs": [
    {
     "data": {
      "text/plain": [
       "artist              0\n",
       "song                0\n",
       "duration_ms         0\n",
       "explicit            0\n",
       "year                0\n",
       "popularity          0\n",
       "danceability        0\n",
       "energy              0\n",
       "key                 0\n",
       "loudness            0\n",
       "mode                0\n",
       "speechiness         0\n",
       "acousticness        0\n",
       "instrumentalness    0\n",
       "liveness            0\n",
       "valence             0\n",
       "tempo               0\n",
       "genre               0\n",
       "dtype: int64"
      ]
     },
     "execution_count": 7,
     "metadata": {},
     "output_type": "execute_result"
    }
   ],
   "source": [
    "df_songs.isnull().sum()"
   ]
  },
  {
   "cell_type": "code",
   "execution_count": 8,
   "metadata": {},
   "outputs": [
    {
     "data": {
      "text/html": [
       "<style type=\"text/css\">\n",
       "#T_59bb3_row0_col0, #T_59bb3_row1_col3, #T_59bb3_row1_col4, #T_59bb3_row1_col5, #T_59bb3_row1_col7, #T_59bb3_row1_col8, #T_59bb3_row1_col9, #T_59bb3_row1_col10, #T_59bb3_row1_col11, #T_59bb3_row1_col12, #T_59bb3_row2_col1, #T_59bb3_row2_col3, #T_59bb3_row2_col4, #T_59bb3_row2_col5, #T_59bb3_row2_col7, #T_59bb3_row2_col8, #T_59bb3_row2_col9, #T_59bb3_row2_col10, #T_59bb3_row2_col11, #T_59bb3_row2_col12, #T_59bb3_row2_col13, #T_59bb3_row3_col2, #T_59bb3_row3_col3, #T_59bb3_row3_col4, #T_59bb3_row3_col5, #T_59bb3_row3_col6, #T_59bb3_row3_col7, #T_59bb3_row3_col8, #T_59bb3_row3_col9, #T_59bb3_row3_col10, #T_59bb3_row3_col11, #T_59bb3_row3_col12, #T_59bb3_row4_col3, #T_59bb3_row4_col4, #T_59bb3_row4_col5, #T_59bb3_row4_col7, #T_59bb3_row4_col8, #T_59bb3_row4_col9, #T_59bb3_row4_col10, #T_59bb3_row4_col11, #T_59bb3_row4_col12, #T_59bb3_row5_col3, #T_59bb3_row5_col4, #T_59bb3_row5_col5, #T_59bb3_row5_col7, #T_59bb3_row5_col8, #T_59bb3_row5_col9, #T_59bb3_row5_col10, #T_59bb3_row5_col11, #T_59bb3_row5_col12, #T_59bb3_row6_col3, #T_59bb3_row6_col4, #T_59bb3_row6_col7, #T_59bb3_row6_col8, #T_59bb3_row6_col9, #T_59bb3_row6_col10, #T_59bb3_row6_col11, #T_59bb3_row6_col12, #T_59bb3_row7_col3, #T_59bb3_row7_col4, #T_59bb3_row7_col7, #T_59bb3_row7_col8, #T_59bb3_row7_col9, #T_59bb3_row7_col10, #T_59bb3_row7_col11, #T_59bb3_row7_col12 {\n",
       "  background-color: #000000;\n",
       "  color: #f1f1f1;\n",
       "}\n",
       "#T_59bb3_row0_col1, #T_59bb3_row3_col1, #T_59bb3_row4_col1 {\n",
       "  background-color: #fef900;\n",
       "  color: #000000;\n",
       "}\n",
       "#T_59bb3_row0_col2, #T_59bb3_row0_col3, #T_59bb3_row0_col4, #T_59bb3_row0_col5, #T_59bb3_row0_col6, #T_59bb3_row0_col7, #T_59bb3_row0_col8, #T_59bb3_row0_col9, #T_59bb3_row0_col10, #T_59bb3_row0_col11, #T_59bb3_row0_col12, #T_59bb3_row0_col13, #T_59bb3_row6_col1, #T_59bb3_row7_col0, #T_59bb3_row7_col1 {\n",
       "  background-color: #ffff00;\n",
       "  color: #000000;\n",
       "}\n",
       "#T_59bb3_row1_col0 {\n",
       "  background-color: #af1b2f;\n",
       "  color: #f1f1f1;\n",
       "}\n",
       "#T_59bb3_row1_col1, #T_59bb3_row5_col1 {\n",
       "  background-color: #fefc00;\n",
       "  color: #000000;\n",
       "}\n",
       "#T_59bb3_row1_col2, #T_59bb3_row4_col2 {\n",
       "  background-color: #2a002c;\n",
       "  color: #f1f1f1;\n",
       "}\n",
       "#T_59bb3_row1_col6, #T_59bb3_row4_col6, #T_59bb3_row5_col6, #T_59bb3_row6_col5, #T_59bb3_row7_col5 {\n",
       "  background-color: #100006;\n",
       "  color: #f1f1f1;\n",
       "}\n",
       "#T_59bb3_row1_col13, #T_59bb3_row5_col13 {\n",
       "  background-color: #37004a;\n",
       "  color: #f1f1f1;\n",
       "}\n",
       "#T_59bb3_row2_col0 {\n",
       "  background-color: #460073;\n",
       "  color: #f1f1f1;\n",
       "}\n",
       "#T_59bb3_row2_col2, #T_59bb3_row2_col6, #T_59bb3_row6_col6, #T_59bb3_row7_col6 {\n",
       "  background-color: #17000d;\n",
       "  color: #f1f1f1;\n",
       "}\n",
       "#T_59bb3_row3_col0 {\n",
       "  background-color: #7a03fc;\n",
       "  color: #f1f1f1;\n",
       "}\n",
       "#T_59bb3_row3_col13 {\n",
       "  background-color: #200019;\n",
       "  color: #f1f1f1;\n",
       "}\n",
       "#T_59bb3_row4_col0 {\n",
       "  background-color: #a5137b;\n",
       "  color: #f1f1f1;\n",
       "}\n",
       "#T_59bb3_row4_col13, #T_59bb3_row6_col2 {\n",
       "  background-color: #300038;\n",
       "  color: #f1f1f1;\n",
       "}\n",
       "#T_59bb3_row5_col0 {\n",
       "  background-color: #ad1941;\n",
       "  color: #f1f1f1;\n",
       "}\n",
       "#T_59bb3_row5_col2 {\n",
       "  background-color: #2d0032;\n",
       "  color: #f1f1f1;\n",
       "}\n",
       "#T_59bb3_row6_col0 {\n",
       "  background-color: #b62200;\n",
       "  color: #f1f1f1;\n",
       "}\n",
       "#T_59bb3_row6_col13 {\n",
       "  background-color: #3a0050;\n",
       "  color: #f1f1f1;\n",
       "}\n",
       "#T_59bb3_row7_col2 {\n",
       "  background-color: #350044;\n",
       "  color: #f1f1f1;\n",
       "}\n",
       "#T_59bb3_row7_col13 {\n",
       "  background-color: #4d0089;\n",
       "  color: #f1f1f1;\n",
       "}\n",
       "</style>\n",
       "<table id=\"T_59bb3_\">\n",
       "  <thead>\n",
       "    <tr>\n",
       "      <th class=\"blank level0\" >&nbsp;</th>\n",
       "      <th class=\"col_heading level0 col0\" >duration_ms</th>\n",
       "      <th class=\"col_heading level0 col1\" >year</th>\n",
       "      <th class=\"col_heading level0 col2\" >popularity</th>\n",
       "      <th class=\"col_heading level0 col3\" >danceability</th>\n",
       "      <th class=\"col_heading level0 col4\" >energy</th>\n",
       "      <th class=\"col_heading level0 col5\" >key</th>\n",
       "      <th class=\"col_heading level0 col6\" >loudness</th>\n",
       "      <th class=\"col_heading level0 col7\" >mode</th>\n",
       "      <th class=\"col_heading level0 col8\" >speechiness</th>\n",
       "      <th class=\"col_heading level0 col9\" >acousticness</th>\n",
       "      <th class=\"col_heading level0 col10\" >instrumentalness</th>\n",
       "      <th class=\"col_heading level0 col11\" >liveness</th>\n",
       "      <th class=\"col_heading level0 col12\" >valence</th>\n",
       "      <th class=\"col_heading level0 col13\" >tempo</th>\n",
       "    </tr>\n",
       "  </thead>\n",
       "  <tbody>\n",
       "    <tr>\n",
       "      <th id=\"T_59bb3_level0_row0\" class=\"row_heading level0 row0\" >count</th>\n",
       "      <td id=\"T_59bb3_row0_col0\" class=\"data row0 col0\" >2000.000000</td>\n",
       "      <td id=\"T_59bb3_row0_col1\" class=\"data row0 col1\" >2000.000000</td>\n",
       "      <td id=\"T_59bb3_row0_col2\" class=\"data row0 col2\" >2000.000000</td>\n",
       "      <td id=\"T_59bb3_row0_col3\" class=\"data row0 col3\" >2000.000000</td>\n",
       "      <td id=\"T_59bb3_row0_col4\" class=\"data row0 col4\" >2000.000000</td>\n",
       "      <td id=\"T_59bb3_row0_col5\" class=\"data row0 col5\" >2000.000000</td>\n",
       "      <td id=\"T_59bb3_row0_col6\" class=\"data row0 col6\" >2000.000000</td>\n",
       "      <td id=\"T_59bb3_row0_col7\" class=\"data row0 col7\" >2000.000000</td>\n",
       "      <td id=\"T_59bb3_row0_col8\" class=\"data row0 col8\" >2000.000000</td>\n",
       "      <td id=\"T_59bb3_row0_col9\" class=\"data row0 col9\" >2000.000000</td>\n",
       "      <td id=\"T_59bb3_row0_col10\" class=\"data row0 col10\" >2000.000000</td>\n",
       "      <td id=\"T_59bb3_row0_col11\" class=\"data row0 col11\" >2000.000000</td>\n",
       "      <td id=\"T_59bb3_row0_col12\" class=\"data row0 col12\" >2000.000000</td>\n",
       "      <td id=\"T_59bb3_row0_col13\" class=\"data row0 col13\" >2000.000000</td>\n",
       "    </tr>\n",
       "    <tr>\n",
       "      <th id=\"T_59bb3_level0_row1\" class=\"row_heading level0 row1\" >mean</th>\n",
       "      <td id=\"T_59bb3_row1_col0\" class=\"data row1 col0\" >228748.124500</td>\n",
       "      <td id=\"T_59bb3_row1_col1\" class=\"data row1 col1\" >2009.494000</td>\n",
       "      <td id=\"T_59bb3_row1_col2\" class=\"data row1 col2\" >59.872500</td>\n",
       "      <td id=\"T_59bb3_row1_col3\" class=\"data row1 col3\" >0.667438</td>\n",
       "      <td id=\"T_59bb3_row1_col4\" class=\"data row1 col4\" >0.720366</td>\n",
       "      <td id=\"T_59bb3_row1_col5\" class=\"data row1 col5\" >5.378000</td>\n",
       "      <td id=\"T_59bb3_row1_col6\" class=\"data row1 col6\" >-5.512434</td>\n",
       "      <td id=\"T_59bb3_row1_col7\" class=\"data row1 col7\" >0.553500</td>\n",
       "      <td id=\"T_59bb3_row1_col8\" class=\"data row1 col8\" >0.103568</td>\n",
       "      <td id=\"T_59bb3_row1_col9\" class=\"data row1 col9\" >0.128955</td>\n",
       "      <td id=\"T_59bb3_row1_col10\" class=\"data row1 col10\" >0.015226</td>\n",
       "      <td id=\"T_59bb3_row1_col11\" class=\"data row1 col11\" >0.181216</td>\n",
       "      <td id=\"T_59bb3_row1_col12\" class=\"data row1 col12\" >0.551690</td>\n",
       "      <td id=\"T_59bb3_row1_col13\" class=\"data row1 col13\" >120.122558</td>\n",
       "    </tr>\n",
       "    <tr>\n",
       "      <th id=\"T_59bb3_level0_row2\" class=\"row_heading level0 row2\" >std</th>\n",
       "      <td id=\"T_59bb3_row2_col0\" class=\"data row2 col0\" >39136.569008</td>\n",
       "      <td id=\"T_59bb3_row2_col1\" class=\"data row2 col1\" >5.859960</td>\n",
       "      <td id=\"T_59bb3_row2_col2\" class=\"data row2 col2\" >21.335577</td>\n",
       "      <td id=\"T_59bb3_row2_col3\" class=\"data row2 col3\" >0.140416</td>\n",
       "      <td id=\"T_59bb3_row2_col4\" class=\"data row2 col4\" >0.152745</td>\n",
       "      <td id=\"T_59bb3_row2_col5\" class=\"data row2 col5\" >3.615059</td>\n",
       "      <td id=\"T_59bb3_row2_col6\" class=\"data row2 col6\" >1.933482</td>\n",
       "      <td id=\"T_59bb3_row2_col7\" class=\"data row2 col7\" >0.497254</td>\n",
       "      <td id=\"T_59bb3_row2_col8\" class=\"data row2 col8\" >0.096159</td>\n",
       "      <td id=\"T_59bb3_row2_col9\" class=\"data row2 col9\" >0.173346</td>\n",
       "      <td id=\"T_59bb3_row2_col10\" class=\"data row2 col10\" >0.087771</td>\n",
       "      <td id=\"T_59bb3_row2_col11\" class=\"data row2 col11\" >0.140669</td>\n",
       "      <td id=\"T_59bb3_row2_col12\" class=\"data row2 col12\" >0.220864</td>\n",
       "      <td id=\"T_59bb3_row2_col13\" class=\"data row2 col13\" >26.967112</td>\n",
       "    </tr>\n",
       "    <tr>\n",
       "      <th id=\"T_59bb3_level0_row3\" class=\"row_heading level0 row3\" >min</th>\n",
       "      <td id=\"T_59bb3_row3_col0\" class=\"data row3 col0\" >113000.000000</td>\n",
       "      <td id=\"T_59bb3_row3_col1\" class=\"data row3 col1\" >1998.000000</td>\n",
       "      <td id=\"T_59bb3_row3_col2\" class=\"data row3 col2\" >0.000000</td>\n",
       "      <td id=\"T_59bb3_row3_col3\" class=\"data row3 col3\" >0.129000</td>\n",
       "      <td id=\"T_59bb3_row3_col4\" class=\"data row3 col4\" >0.054900</td>\n",
       "      <td id=\"T_59bb3_row3_col5\" class=\"data row3 col5\" >0.000000</td>\n",
       "      <td id=\"T_59bb3_row3_col6\" class=\"data row3 col6\" >-20.514000</td>\n",
       "      <td id=\"T_59bb3_row3_col7\" class=\"data row3 col7\" >0.000000</td>\n",
       "      <td id=\"T_59bb3_row3_col8\" class=\"data row3 col8\" >0.023200</td>\n",
       "      <td id=\"T_59bb3_row3_col9\" class=\"data row3 col9\" >0.000019</td>\n",
       "      <td id=\"T_59bb3_row3_col10\" class=\"data row3 col10\" >0.000000</td>\n",
       "      <td id=\"T_59bb3_row3_col11\" class=\"data row3 col11\" >0.021500</td>\n",
       "      <td id=\"T_59bb3_row3_col12\" class=\"data row3 col12\" >0.038100</td>\n",
       "      <td id=\"T_59bb3_row3_col13\" class=\"data row3 col13\" >60.019000</td>\n",
       "    </tr>\n",
       "    <tr>\n",
       "      <th id=\"T_59bb3_level0_row4\" class=\"row_heading level0 row4\" >25%</th>\n",
       "      <td id=\"T_59bb3_row4_col0\" class=\"data row4 col0\" >203580.000000</td>\n",
       "      <td id=\"T_59bb3_row4_col1\" class=\"data row4 col1\" >2004.000000</td>\n",
       "      <td id=\"T_59bb3_row4_col2\" class=\"data row4 col2\" >56.000000</td>\n",
       "      <td id=\"T_59bb3_row4_col3\" class=\"data row4 col3\" >0.581000</td>\n",
       "      <td id=\"T_59bb3_row4_col4\" class=\"data row4 col4\" >0.622000</td>\n",
       "      <td id=\"T_59bb3_row4_col5\" class=\"data row4 col5\" >2.000000</td>\n",
       "      <td id=\"T_59bb3_row4_col6\" class=\"data row4 col6\" >-6.490250</td>\n",
       "      <td id=\"T_59bb3_row4_col7\" class=\"data row4 col7\" >0.000000</td>\n",
       "      <td id=\"T_59bb3_row4_col8\" class=\"data row4 col8\" >0.039600</td>\n",
       "      <td id=\"T_59bb3_row4_col9\" class=\"data row4 col9\" >0.014000</td>\n",
       "      <td id=\"T_59bb3_row4_col10\" class=\"data row4 col10\" >0.000000</td>\n",
       "      <td id=\"T_59bb3_row4_col11\" class=\"data row4 col11\" >0.088100</td>\n",
       "      <td id=\"T_59bb3_row4_col12\" class=\"data row4 col12\" >0.386750</td>\n",
       "      <td id=\"T_59bb3_row4_col13\" class=\"data row4 col13\" >98.985750</td>\n",
       "    </tr>\n",
       "    <tr>\n",
       "      <th id=\"T_59bb3_level0_row5\" class=\"row_heading level0 row5\" >50%</th>\n",
       "      <td id=\"T_59bb3_row5_col0\" class=\"data row5 col0\" >223279.500000</td>\n",
       "      <td id=\"T_59bb3_row5_col1\" class=\"data row5 col1\" >2010.000000</td>\n",
       "      <td id=\"T_59bb3_row5_col2\" class=\"data row5 col2\" >65.500000</td>\n",
       "      <td id=\"T_59bb3_row5_col3\" class=\"data row5 col3\" >0.676000</td>\n",
       "      <td id=\"T_59bb3_row5_col4\" class=\"data row5 col4\" >0.736000</td>\n",
       "      <td id=\"T_59bb3_row5_col5\" class=\"data row5 col5\" >6.000000</td>\n",
       "      <td id=\"T_59bb3_row5_col6\" class=\"data row5 col6\" >-5.285000</td>\n",
       "      <td id=\"T_59bb3_row5_col7\" class=\"data row5 col7\" >1.000000</td>\n",
       "      <td id=\"T_59bb3_row5_col8\" class=\"data row5 col8\" >0.059850</td>\n",
       "      <td id=\"T_59bb3_row5_col9\" class=\"data row5 col9\" >0.055700</td>\n",
       "      <td id=\"T_59bb3_row5_col10\" class=\"data row5 col10\" >0.000000</td>\n",
       "      <td id=\"T_59bb3_row5_col11\" class=\"data row5 col11\" >0.124000</td>\n",
       "      <td id=\"T_59bb3_row5_col12\" class=\"data row5 col12\" >0.557500</td>\n",
       "      <td id=\"T_59bb3_row5_col13\" class=\"data row5 col13\" >120.021500</td>\n",
       "    </tr>\n",
       "    <tr>\n",
       "      <th id=\"T_59bb3_level0_row6\" class=\"row_heading level0 row6\" >75%</th>\n",
       "      <td id=\"T_59bb3_row6_col0\" class=\"data row6 col0\" >248133.000000</td>\n",
       "      <td id=\"T_59bb3_row6_col1\" class=\"data row6 col1\" >2015.000000</td>\n",
       "      <td id=\"T_59bb3_row6_col2\" class=\"data row6 col2\" >73.000000</td>\n",
       "      <td id=\"T_59bb3_row6_col3\" class=\"data row6 col3\" >0.764000</td>\n",
       "      <td id=\"T_59bb3_row6_col4\" class=\"data row6 col4\" >0.839000</td>\n",
       "      <td id=\"T_59bb3_row6_col5\" class=\"data row6 col5\" >8.000000</td>\n",
       "      <td id=\"T_59bb3_row6_col6\" class=\"data row6 col6\" >-4.167750</td>\n",
       "      <td id=\"T_59bb3_row6_col7\" class=\"data row6 col7\" >1.000000</td>\n",
       "      <td id=\"T_59bb3_row6_col8\" class=\"data row6 col8\" >0.129000</td>\n",
       "      <td id=\"T_59bb3_row6_col9\" class=\"data row6 col9\" >0.176250</td>\n",
       "      <td id=\"T_59bb3_row6_col10\" class=\"data row6 col10\" >0.000068</td>\n",
       "      <td id=\"T_59bb3_row6_col11\" class=\"data row6 col11\" >0.241000</td>\n",
       "      <td id=\"T_59bb3_row6_col12\" class=\"data row6 col12\" >0.730000</td>\n",
       "      <td id=\"T_59bb3_row6_col13\" class=\"data row6 col13\" >134.265500</td>\n",
       "    </tr>\n",
       "    <tr>\n",
       "      <th id=\"T_59bb3_level0_row7\" class=\"row_heading level0 row7\" >max</th>\n",
       "      <td id=\"T_59bb3_row7_col0\" class=\"data row7 col0\" >484146.000000</td>\n",
       "      <td id=\"T_59bb3_row7_col1\" class=\"data row7 col1\" >2020.000000</td>\n",
       "      <td id=\"T_59bb3_row7_col2\" class=\"data row7 col2\" >89.000000</td>\n",
       "      <td id=\"T_59bb3_row7_col3\" class=\"data row7 col3\" >0.975000</td>\n",
       "      <td id=\"T_59bb3_row7_col4\" class=\"data row7 col4\" >0.999000</td>\n",
       "      <td id=\"T_59bb3_row7_col5\" class=\"data row7 col5\" >11.000000</td>\n",
       "      <td id=\"T_59bb3_row7_col6\" class=\"data row7 col6\" >-0.276000</td>\n",
       "      <td id=\"T_59bb3_row7_col7\" class=\"data row7 col7\" >1.000000</td>\n",
       "      <td id=\"T_59bb3_row7_col8\" class=\"data row7 col8\" >0.576000</td>\n",
       "      <td id=\"T_59bb3_row7_col9\" class=\"data row7 col9\" >0.976000</td>\n",
       "      <td id=\"T_59bb3_row7_col10\" class=\"data row7 col10\" >0.985000</td>\n",
       "      <td id=\"T_59bb3_row7_col11\" class=\"data row7 col11\" >0.853000</td>\n",
       "      <td id=\"T_59bb3_row7_col12\" class=\"data row7 col12\" >0.973000</td>\n",
       "      <td id=\"T_59bb3_row7_col13\" class=\"data row7 col13\" >210.851000</td>\n",
       "    </tr>\n",
       "  </tbody>\n",
       "</table>\n"
      ],
      "text/plain": [
       "<pandas.io.formats.style.Styler at 0x7fa65a0e63d0>"
      ]
     },
     "execution_count": 8,
     "metadata": {},
     "output_type": "execute_result"
    }
   ],
   "source": [
    "df_songs.describe().style.background_gradient(cmap = 'gnuplot')"
   ]
  },
  {
   "cell_type": "code",
   "execution_count": 9,
   "metadata": {},
   "outputs": [
    {
     "data": {
      "text/plain": [
       "False    1449\n",
       "True      551\n",
       "Name: explicit, dtype: int64"
      ]
     },
     "execution_count": 9,
     "metadata": {},
     "output_type": "execute_result"
    }
   ],
   "source": [
    "df_songs['explicit'].value_counts()"
   ]
  },
  {
   "cell_type": "code",
   "execution_count": 10,
   "metadata": {},
   "outputs": [
    {
     "data": {
      "text/plain": [
       "0                     [pop]\n",
       "1              [rock,  pop]\n",
       "2           [pop,  country]\n",
       "3            [rock,  metal]\n",
       "4                     [pop]\n",
       "               ...         \n",
       "1995                  [pop]\n",
       "1996                  [pop]\n",
       "1997    [hip hop,  country]\n",
       "1998                  [pop]\n",
       "1999              [hip hop]\n",
       "Name: genre, Length: 2000, dtype: object"
      ]
     },
     "execution_count": 10,
     "metadata": {},
     "output_type": "execute_result"
    }
   ],
   "source": [
    "df_songs['genre'].apply(lambda x : x.split(','))"
   ]
  },
  {
   "cell_type": "code",
   "execution_count": 11,
   "metadata": {},
   "outputs": [
    {
     "data": {
      "text/plain": [
       "['pop',\n",
       " 'rock',\n",
       " ' pop',\n",
       " 'pop',\n",
       " ' country',\n",
       " 'rock',\n",
       " ' metal',\n",
       " 'pop',\n",
       " 'hip hop',\n",
       " ' pop',\n",
       " ' R&B',\n",
       " 'hip hop',\n",
       " 'pop',\n",
       " ' rock',\n",
       " 'pop',\n",
       " ' R&B',\n",
       " 'Dance/Electronic',\n",
       " 'pop',\n",
       " 'pop',\n",
       " 'pop',\n",
       " 'rock',\n",
       " ' pop',\n",
       " 'pop',\n",
       " ' Dance/Electronic',\n",
       " 'hip hop',\n",
       " ' pop',\n",
       " ' R&B',\n",
       " 'pop',\n",
       " 'pop',\n",
       " 'pop',\n",
       " 'hip hop',\n",
       " 'rock',\n",
       " ' metal',\n",
       " 'rock',\n",
       " ' Folk/Acoustic',\n",
       " ' easy listening',\n",
       " 'pop',\n",
       " 'hip hop',\n",
       " 'pop',\n",
       " ' Dance/Electronic',\n",
       " 'metal',\n",
       " 'pop',\n",
       " ' Dance/Electronic',\n",
       " 'hip hop',\n",
       " ' pop',\n",
       " ' R&B',\n",
       " 'pop',\n",
       " ' Dance/Electronic',\n",
       " 'Dance/Electronic',\n",
       " 'hip hop',\n",
       " ' pop',\n",
       " 'pop',\n",
       " ' R&B',\n",
       " 'pop',\n",
       " 'R&B',\n",
       " 'pop',\n",
       " 'hip hop',\n",
       " ' pop',\n",
       " ' R&B',\n",
       " 'pop',\n",
       " ' Dance/Electronic',\n",
       " 'hip hop',\n",
       " 'pop',\n",
       " ' country',\n",
       " 'pop',\n",
       " ' R&B',\n",
       " 'pop',\n",
       " ' latin',\n",
       " 'pop',\n",
       " ' R&B',\n",
       " 'hip hop',\n",
       " ' pop',\n",
       " ' R&B',\n",
       " 'hip hop',\n",
       " 'hip hop',\n",
       " ' pop',\n",
       " ' R&B',\n",
       " 'pop',\n",
       " 'pop',\n",
       " 'pop',\n",
       " ' R&B',\n",
       " 'R&B',\n",
       " 'hip hop',\n",
       " ' pop',\n",
       " ' R&B',\n",
       " 'pop',\n",
       " ' R&B',\n",
       " 'pop',\n",
       " ' latin',\n",
       " 'hip hop',\n",
       " ' pop',\n",
       " ' R&B',\n",
       " 'hip hop',\n",
       " ' pop',\n",
       " ' R&B',\n",
       " 'hip hop',\n",
       " 'pop',\n",
       " ' R&B',\n",
       " 'R&B',\n",
       " 'pop',\n",
       " ' R&B',\n",
       " 'pop',\n",
       " ' country',\n",
       " 'Folk/Acoustic',\n",
       " ' rock',\n",
       " 'pop',\n",
       " ' easy listening',\n",
       " ' Dance/Electronic',\n",
       " 'pop',\n",
       " 'pop',\n",
       " ' R&B',\n",
       " 'hip hop',\n",
       " ' pop',\n",
       " ' R&B',\n",
       " 'pop',\n",
       " 'pop',\n",
       " 'rock',\n",
       " 'hip hop',\n",
       " ' pop',\n",
       " ' R&B',\n",
       " 'hip hop',\n",
       " ' pop',\n",
       " ' R&B',\n",
       " 'rock',\n",
       " ' blues',\n",
       " ' latin',\n",
       " 'pop',\n",
       " ' R&B',\n",
       " 'pop',\n",
       " 'pop',\n",
       " 'pop',\n",
       " ' rock',\n",
       " 'Dance/Electronic',\n",
       " 'pop',\n",
       " ' R&B',\n",
       " 'pop',\n",
       " 'pop',\n",
       " ' rock',\n",
       " ' metal',\n",
       " 'pop',\n",
       " ' R&B',\n",
       " 'hip hop',\n",
       " ' pop',\n",
       " 'rock',\n",
       " ' pop',\n",
       " ' metal',\n",
       " 'pop',\n",
       " ' R&B',\n",
       " 'pop',\n",
       " 'pop',\n",
       " 'pop',\n",
       " 'pop',\n",
       " ' R&B',\n",
       " 'pop',\n",
       " 'hip hop',\n",
       " ' R&B',\n",
       " 'pop',\n",
       " ' latin',\n",
       " 'pop',\n",
       " ' rock',\n",
       " 'pop',\n",
       " ' R&B',\n",
       " 'pop',\n",
       " 'pop',\n",
       " ' rock',\n",
       " ' metal',\n",
       " 'pop',\n",
       " ' Folk/Acoustic',\n",
       " 'pop',\n",
       " ' R&B',\n",
       " 'set()',\n",
       " 'pop',\n",
       " 'pop',\n",
       " ' rock',\n",
       " ' metal',\n",
       " 'pop',\n",
       " 'hip hop',\n",
       " ' pop',\n",
       " ' R&B',\n",
       " 'hip hop',\n",
       " ' pop',\n",
       " 'pop',\n",
       " ' R&B',\n",
       " 'hip hop',\n",
       " 'pop',\n",
       " ' Dance/Electronic',\n",
       " 'pop',\n",
       " 'hip hop',\n",
       " ' pop',\n",
       " ' latin',\n",
       " 'pop',\n",
       " ' latin',\n",
       " 'rock',\n",
       " ' pop',\n",
       " 'pop',\n",
       " 'pop',\n",
       " 'pop',\n",
       " ' R&B',\n",
       " 'pop',\n",
       " 'pop',\n",
       " ' Dance/Electronic',\n",
       " 'hip hop',\n",
       " ' pop',\n",
       " ' R&B',\n",
       " 'pop',\n",
       " ' R&B',\n",
       " 'pop',\n",
       " ' Dance/Electronic',\n",
       " 'metal',\n",
       " 'pop',\n",
       " 'Dance/Electronic',\n",
       " 'pop',\n",
       " 'hip hop',\n",
       " ' pop',\n",
       " ' R&B',\n",
       " 'pop',\n",
       " 'pop',\n",
       " ' R&B',\n",
       " 'rock',\n",
       " ' metal',\n",
       " 'pop',\n",
       " ' R&B',\n",
       " 'hip hop',\n",
       " ' pop',\n",
       " ' R&B',\n",
       " 'hip hop',\n",
       " ' pop',\n",
       " ' R&B',\n",
       " 'hip hop',\n",
       " ' pop',\n",
       " ' R&B',\n",
       " 'rock',\n",
       " ' metal',\n",
       " 'hip hop',\n",
       " ' Dance/Electronic',\n",
       " 'hip hop',\n",
       " ' pop',\n",
       " 'pop',\n",
       " ' Dance/Electronic',\n",
       " 'pop',\n",
       " ' R&B',\n",
       " 'pop',\n",
       " 'pop',\n",
       " ' R&B',\n",
       " 'rock',\n",
       " ' metal',\n",
       " 'hip hop',\n",
       " ' pop',\n",
       " ' R&B',\n",
       " 'hip hop',\n",
       " ' pop',\n",
       " ' R&B',\n",
       " 'pop',\n",
       " ' latin',\n",
       " 'hip hop',\n",
       " ' pop',\n",
       " ' R&B',\n",
       " 'Dance/Electronic',\n",
       " 'hip hop',\n",
       " 'hip hop',\n",
       " 'pop',\n",
       " ' R&B',\n",
       " 'pop',\n",
       " ' R&B',\n",
       " 'hip hop',\n",
       " ' pop',\n",
       " ' R&B',\n",
       " 'pop',\n",
       " 'hip hop',\n",
       " ' pop',\n",
       " ' R&B',\n",
       " 'hip hop',\n",
       " ' pop',\n",
       " ' R&B',\n",
       " 'pop',\n",
       " 'Dance/Electronic',\n",
       " 'rock',\n",
       " ' metal',\n",
       " 'hip hop',\n",
       " ' pop',\n",
       " 'hip hop',\n",
       " ' pop',\n",
       " ' rock',\n",
       " 'hip hop',\n",
       " ' pop',\n",
       " ' R&B',\n",
       " 'pop',\n",
       " 'pop',\n",
       " 'pop',\n",
       " 'hip hop',\n",
       " ' pop',\n",
       " ' R&B',\n",
       " 'hip hop',\n",
       " 'pop',\n",
       " 'hip hop',\n",
       " ' pop',\n",
       " ' R&B',\n",
       " 'hip hop',\n",
       " ' pop',\n",
       " ' latin',\n",
       " 'Dance/Electronic',\n",
       " 'pop',\n",
       " ' Dance/Electronic',\n",
       " 'hip hop',\n",
       " ' pop',\n",
       " ' R&B',\n",
       " 'pop',\n",
       " 'World/Traditional',\n",
       " ' Folk/Acoustic',\n",
       " 'pop',\n",
       " ' country',\n",
       " 'pop',\n",
       " ' rock',\n",
       " 'pop',\n",
       " ' R&B',\n",
       " 'pop',\n",
       " ' Dance/Electronic',\n",
       " 'pop',\n",
       " ' R&B',\n",
       " 'rock',\n",
       " ' pop',\n",
       " 'pop',\n",
       " 'Dance/Electronic',\n",
       " 'pop',\n",
       " ' R&B',\n",
       " 'pop',\n",
       " 'hip hop',\n",
       " ' pop',\n",
       " ' R&B',\n",
       " 'pop',\n",
       " ' R&B',\n",
       " 'Dance/Electronic',\n",
       " 'hip hop',\n",
       " ' pop',\n",
       " ' R&B',\n",
       " 'pop',\n",
       " ' R&B',\n",
       " 'Dance/Electronic',\n",
       " 'pop',\n",
       " ' rock',\n",
       " 'pop',\n",
       " ' Dance/Electronic',\n",
       " 'hip hop',\n",
       " ' pop',\n",
       " 'pop',\n",
       " ' R&B',\n",
       " 'hip hop',\n",
       " ' pop',\n",
       " ' R&B',\n",
       " 'hip hop',\n",
       " ' pop',\n",
       " 'rock',\n",
       " ' pop',\n",
       " 'hip hop',\n",
       " 'pop',\n",
       " ' R&B',\n",
       " 'rock',\n",
       " 'pop',\n",
       " ' R&B',\n",
       " 'rock',\n",
       " ' metal',\n",
       " 'pop',\n",
       " ' R&B',\n",
       " 'hip hop',\n",
       " ' pop',\n",
       " ' R&B',\n",
       " 'pop',\n",
       " 'pop',\n",
       " ' rock',\n",
       " ' metal',\n",
       " 'hip hop',\n",
       " ' pop',\n",
       " ' R&B',\n",
       " 'hip hop',\n",
       " 'pop',\n",
       " 'Folk/Acoustic',\n",
       " ' pop',\n",
       " 'pop',\n",
       " 'pop',\n",
       " ' latin',\n",
       " 'rock',\n",
       " ' pop',\n",
       " 'pop',\n",
       " ' R&B',\n",
       " 'hip hop',\n",
       " ' pop',\n",
       " 'hip hop',\n",
       " 'hip hop',\n",
       " ' pop',\n",
       " 'hip hop',\n",
       " ' pop',\n",
       " ' R&B',\n",
       " 'pop',\n",
       " 'hip hop',\n",
       " ' pop',\n",
       " ' R&B',\n",
       " 'pop',\n",
       " 'rock',\n",
       " ' metal',\n",
       " 'set()',\n",
       " 'hip hop',\n",
       " ' pop',\n",
       " ' R&B',\n",
       " 'pop',\n",
       " ' Dance/Electronic',\n",
       " 'pop',\n",
       " ' R&B',\n",
       " 'rock',\n",
       " ' metal',\n",
       " 'hip hop',\n",
       " ' pop',\n",
       " ' R&B',\n",
       " 'metal',\n",
       " 'pop',\n",
       " 'pop',\n",
       " ' Dance/Electronic',\n",
       " 'hip hop',\n",
       " ' pop',\n",
       " ' R&B',\n",
       " 'hip hop',\n",
       " ' pop',\n",
       " ' R&B',\n",
       " 'hip hop',\n",
       " ' pop',\n",
       " ' R&B',\n",
       " 'pop',\n",
       " 'hip hop',\n",
       " ' pop',\n",
       " 'pop',\n",
       " 'pop',\n",
       " ' Dance/Electronic',\n",
       " 'hip hop',\n",
       " ' pop',\n",
       " ' R&B',\n",
       " 'hip hop',\n",
       " ' pop',\n",
       " 'pop',\n",
       " ' R&B',\n",
       " 'hip hop',\n",
       " ' pop',\n",
       " ' R&B',\n",
       " 'pop',\n",
       " ' Dance/Electronic',\n",
       " 'hip hop',\n",
       " ' pop',\n",
       " ' R&B',\n",
       " 'pop',\n",
       " 'pop',\n",
       " 'hip hop',\n",
       " ' pop',\n",
       " ' R&B',\n",
       " 'pop',\n",
       " ' R&B',\n",
       " 'Dance/Electronic',\n",
       " 'hip hop',\n",
       " ' pop',\n",
       " 'pop',\n",
       " 'rock',\n",
       " ' pop',\n",
       " 'hip hop',\n",
       " ' pop',\n",
       " ' R&B',\n",
       " 'rock',\n",
       " 'pop',\n",
       " ' R&B',\n",
       " 'hip hop',\n",
       " ' pop',\n",
       " 'hip hop',\n",
       " ' pop',\n",
       " ' R&B',\n",
       " 'pop',\n",
       " 'pop',\n",
       " ' Dance/Electronic',\n",
       " 'hip hop',\n",
       " ' pop',\n",
       " 'pop',\n",
       " 'hip hop',\n",
       " ' pop',\n",
       " 'pop',\n",
       " 'rock',\n",
       " ' pop',\n",
       " 'hip hop',\n",
       " ' pop',\n",
       " ' R&B',\n",
       " 'pop',\n",
       " ' Dance/Electronic',\n",
       " 'pop',\n",
       " 'pop',\n",
       " ' R&B',\n",
       " 'pop',\n",
       " 'hip hop',\n",
       " 'hip hop',\n",
       " ' pop',\n",
       " ' R&B',\n",
       " 'pop',\n",
       " 'pop',\n",
       " 'pop',\n",
       " ' R&B',\n",
       " 'pop',\n",
       " 'rock',\n",
       " ' pop',\n",
       " 'hip hop',\n",
       " ' pop',\n",
       " ' R&B',\n",
       " 'pop',\n",
       " ' rock',\n",
       " 'hip hop',\n",
       " ' pop',\n",
       " 'pop',\n",
       " ' rock',\n",
       " ' metal',\n",
       " 'hip hop',\n",
       " ' pop',\n",
       " ' R&B',\n",
       " 'hip hop',\n",
       " ' pop',\n",
       " ' R&B',\n",
       " 'pop',\n",
       " 'pop',\n",
       " 'pop',\n",
       " 'hip hop',\n",
       " ' pop',\n",
       " 'rock',\n",
       " 'rock',\n",
       " ' easy listening',\n",
       " 'pop',\n",
       " 'pop',\n",
       " 'pop',\n",
       " ' rock',\n",
       " 'pop',\n",
       " ' Folk/Acoustic',\n",
       " 'hip hop',\n",
       " ' pop',\n",
       " ' R&B',\n",
       " 'pop',\n",
       " ' rock',\n",
       " ' metal',\n",
       " 'pop',\n",
       " ' rock',\n",
       " 'rock',\n",
       " ' metal',\n",
       " 'hip hop',\n",
       " ' pop',\n",
       " 'set()',\n",
       " 'rock',\n",
       " ' pop',\n",
       " ' metal',\n",
       " 'pop',\n",
       " ' Folk/Acoustic',\n",
       " 'pop',\n",
       " 'pop',\n",
       " ' latin',\n",
       " 'rock',\n",
       " ' metal',\n",
       " 'rock',\n",
       " ' pop',\n",
       " 'hip hop',\n",
       " ' pop',\n",
       " 'pop',\n",
       " 'hip hop',\n",
       " ' pop',\n",
       " 'hip hop',\n",
       " ' pop',\n",
       " 'hip hop',\n",
       " 'pop',\n",
       " ' R&B',\n",
       " 'rock',\n",
       " ' pop',\n",
       " 'hip hop',\n",
       " ' pop',\n",
       " 'hip hop',\n",
       " ' pop',\n",
       " ' R&B',\n",
       " 'hip hop',\n",
       " ' pop',\n",
       " 'pop',\n",
       " 'pop',\n",
       " ' Dance/Electronic',\n",
       " 'hip hop',\n",
       " ' pop',\n",
       " 'World/Traditional',\n",
       " ' hip hop',\n",
       " 'pop',\n",
       " ' Dance/Electronic',\n",
       " 'hip hop',\n",
       " 'hip hop',\n",
       " ' pop',\n",
       " 'pop',\n",
       " 'rock',\n",
       " ' metal',\n",
       " 'hip hop',\n",
       " ' pop',\n",
       " 'metal',\n",
       " 'pop',\n",
       " ' R&B',\n",
       " 'hip hop',\n",
       " ' pop',\n",
       " ' R&B',\n",
       " 'rock',\n",
       " ' metal',\n",
       " 'hip hop',\n",
       " ' pop',\n",
       " 'hip hop',\n",
       " ' pop',\n",
       " ' R&B',\n",
       " 'hip hop',\n",
       " ' pop',\n",
       " ' R&B',\n",
       " ' latin',\n",
       " 'hip hop',\n",
       " ' pop',\n",
       " ' R&B',\n",
       " 'pop',\n",
       " 'pop',\n",
       " 'pop',\n",
       " 'pop',\n",
       " 'rock',\n",
       " ' blues',\n",
       " 'hip hop',\n",
       " ' pop',\n",
       " 'pop',\n",
       " ' R&B',\n",
       " 'hip hop',\n",
       " ' pop',\n",
       " ' R&B',\n",
       " 'pop',\n",
       " 'rock',\n",
       " ' metal',\n",
       " 'pop',\n",
       " 'hip hop',\n",
       " ' pop',\n",
       " ' R&B',\n",
       " 'rock',\n",
       " ' metal',\n",
       " 'rock',\n",
       " ' R&B',\n",
       " ' Folk/Acoustic',\n",
       " ' pop',\n",
       " 'pop',\n",
       " ' R&B',\n",
       " 'pop',\n",
       " ' Dance/Electronic',\n",
       " 'hip hop',\n",
       " ' pop',\n",
       " ' R&B',\n",
       " 'Dance/Electronic',\n",
       " 'hip hop',\n",
       " 'metal',\n",
       " 'pop',\n",
       " ' R&B',\n",
       " 'hip hop',\n",
       " ' pop',\n",
       " 'hip hop',\n",
       " ' pop',\n",
       " 'hip hop',\n",
       " ' pop',\n",
       " ' R&B',\n",
       " 'hip hop',\n",
       " 'hip hop',\n",
       " ' pop',\n",
       " ' R&B',\n",
       " 'pop',\n",
       " ' R&B',\n",
       " 'hip hop',\n",
       " ' pop',\n",
       " 'hip hop',\n",
       " ' pop',\n",
       " ' R&B',\n",
       " 'hip hop',\n",
       " ' pop',\n",
       " ' R&B',\n",
       " 'pop',\n",
       " ' Dance/Electronic',\n",
       " 'pop',\n",
       " ' Dance/Electronic',\n",
       " 'pop',\n",
       " 'hip hop',\n",
       " ' pop',\n",
       " ' R&B',\n",
       " 'hip hop',\n",
       " ' pop',\n",
       " 'hip hop',\n",
       " ' pop',\n",
       " ' R&B',\n",
       " 'hip hop',\n",
       " ' pop',\n",
       " ' R&B',\n",
       " 'rock',\n",
       " 'pop',\n",
       " ' Dance/Electronic',\n",
       " 'hip hop',\n",
       " ' pop',\n",
       " 'hip hop',\n",
       " 'pop',\n",
       " ' rock',\n",
       " ' metal',\n",
       " 'hip hop',\n",
       " ' pop',\n",
       " ' R&B',\n",
       " 'pop',\n",
       " 'pop',\n",
       " 'rock',\n",
       " ' pop',\n",
       " 'pop',\n",
       " ' R&B',\n",
       " 'hip hop',\n",
       " 'rock',\n",
       " ' pop',\n",
       " 'hip hop',\n",
       " ' pop',\n",
       " ' R&B',\n",
       " 'hip hop',\n",
       " ' pop',\n",
       " ' R&B',\n",
       " 'hip hop',\n",
       " ' pop',\n",
       " ' R&B',\n",
       " 'pop',\n",
       " 'rock',\n",
       " ' metal',\n",
       " 'hip hop',\n",
       " ' pop',\n",
       " 'pop',\n",
       " ' R&B',\n",
       " 'hip hop',\n",
       " ' pop',\n",
       " ' R&B',\n",
       " 'pop',\n",
       " ' R&B',\n",
       " 'pop',\n",
       " 'hip hop',\n",
       " 'hip hop',\n",
       " ' pop',\n",
       " ' R&B',\n",
       " 'hip hop',\n",
       " ' pop',\n",
       " ' R&B',\n",
       " 'pop',\n",
       " ' R&B',\n",
       " 'hip hop',\n",
       " ' pop',\n",
       " ' R&B',\n",
       " 'pop',\n",
       " ' rock',\n",
       " 'hip hop',\n",
       " ' pop',\n",
       " 'hip hop',\n",
       " ' pop',\n",
       " ' R&B',\n",
       " 'rock',\n",
       " ' pop',\n",
       " 'pop',\n",
       " 'rock',\n",
       " ' metal',\n",
       " 'hip hop',\n",
       " ' R&B',\n",
       " 'rock',\n",
       " 'pop',\n",
       " 'pop',\n",
       " 'hip hop',\n",
       " ' pop',\n",
       " ' R&B',\n",
       " 'pop',\n",
       " 'pop',\n",
       " 'hip hop',\n",
       " ' pop',\n",
       " 'pop',\n",
       " ' rock',\n",
       " ' metal',\n",
       " 'pop',\n",
       " 'latin',\n",
       " 'hip hop',\n",
       " ' pop',\n",
       " 'pop',\n",
       " 'hip hop',\n",
       " 'pop',\n",
       " 'pop',\n",
       " ' R&B',\n",
       " 'hip hop',\n",
       " ' pop',\n",
       " ' R&B',\n",
       " 'metal',\n",
       " 'hip hop',\n",
       " ' pop',\n",
       " 'pop',\n",
       " ' R&B',\n",
       " 'rock',\n",
       " ' metal',\n",
       " 'hip hop',\n",
       " ' pop',\n",
       " 'pop',\n",
       " 'hip hop',\n",
       " ' pop',\n",
       " ' rock',\n",
       " 'hip hop',\n",
       " ' pop',\n",
       " ' R&B',\n",
       " 'pop',\n",
       " 'pop',\n",
       " ' R&B',\n",
       " 'pop',\n",
       " ' Dance/Electronic',\n",
       " 'pop',\n",
       " ' R&B',\n",
       " 'pop',\n",
       " ' R&B',\n",
       " ' Dance/Electronic',\n",
       " 'hip hop',\n",
       " ' pop',\n",
       " ' R&B',\n",
       " 'rock',\n",
       " 'set()',\n",
       " 'pop',\n",
       " 'pop',\n",
       " ' R&B',\n",
       " 'hip hop',\n",
       " ' pop',\n",
       " ' R&B',\n",
       " ' latin',\n",
       " 'hip hop',\n",
       " ' pop',\n",
       " 'hip hop',\n",
       " 'pop',\n",
       " ' latin',\n",
       " 'pop',\n",
       " 'pop',\n",
       " ' rock',\n",
       " 'hip hop',\n",
       " ' pop',\n",
       " 'hip hop',\n",
       " ' pop',\n",
       " 'pop',\n",
       " ' latin',\n",
       " 'pop',\n",
       " ' R&B',\n",
       " ' Dance/Electronic',\n",
       " 'rock',\n",
       " ' metal',\n",
       " 'hip hop',\n",
       " ' pop',\n",
       " ' R&B',\n",
       " 'hip hop',\n",
       " ' pop',\n",
       " ' R&B',\n",
       " 'pop',\n",
       " ' R&B',\n",
       " 'hip hop',\n",
       " 'pop',\n",
       " ' R&B',\n",
       " 'hip hop',\n",
       " ' pop',\n",
       " 'hip hop',\n",
       " ' pop',\n",
       " 'Dance/Electronic',\n",
       " 'hip hop',\n",
       " ' pop',\n",
       " ' rock',\n",
       " 'pop',\n",
       " ' Dance/Electronic',\n",
       " 'hip hop',\n",
       " 'hip hop',\n",
       " ' pop',\n",
       " ' R&B',\n",
       " 'hip hop',\n",
       " ' pop',\n",
       " 'set()',\n",
       " 'pop',\n",
       " ' Dance/Electronic',\n",
       " 'hip hop',\n",
       " ' pop',\n",
       " ' R&B',\n",
       " 'hip hop',\n",
       " 'pop',\n",
       " 'World/Traditional',\n",
       " ' rock',\n",
       " 'rock',\n",
       " 'hip hop',\n",
       " ' pop',\n",
       " 'hip hop',\n",
       " ' pop',\n",
       " 'hip hop',\n",
       " ' pop',\n",
       " 'hip hop',\n",
       " 'metal',\n",
       " 'hip hop',\n",
       " ' pop',\n",
       " ' R&B',\n",
       " 'R&B',\n",
       " 'rock',\n",
       " ' pop',\n",
       " 'pop',\n",
       " 'hip hop',\n",
       " ' pop',\n",
       " ' R&B',\n",
       " 'rock',\n",
       " 'pop',\n",
       " ' R&B',\n",
       " ' Dance/Electronic',\n",
       " 'pop',\n",
       " ' rock',\n",
       " ' Dance/Electronic',\n",
       " 'pop',\n",
       " ' R&B',\n",
       " 'hip hop',\n",
       " 'pop',\n",
       " 'hip hop',\n",
       " ' pop',\n",
       " 'pop',\n",
       " 'pop',\n",
       " 'set()',\n",
       " 'pop',\n",
       " ' R&B',\n",
       " 'pop',\n",
       " ' rock',\n",
       " ' metal',\n",
       " 'hip hop',\n",
       " 'hip hop',\n",
       " ' pop',\n",
       " ' R&B',\n",
       " 'pop',\n",
       " ' easy listening',\n",
       " ' jazz',\n",
       " 'hip hop',\n",
       " ' pop',\n",
       " ' R&B',\n",
       " 'hip hop',\n",
       " ' pop',\n",
       " ' R&B',\n",
       " 'Dance/Electronic',\n",
       " 'hip hop',\n",
       " ' Dance/Electronic',\n",
       " 'hip hop',\n",
       " ' pop',\n",
       " 'hip hop',\n",
       " ' pop',\n",
       " 'pop',\n",
       " ' Dance/Electronic',\n",
       " 'pop',\n",
       " ' R&B',\n",
       " 'hip hop',\n",
       " 'pop',\n",
       " 'pop',\n",
       " 'pop',\n",
       " 'pop',\n",
       " ' R&B',\n",
       " 'pop',\n",
       " ' R&B',\n",
       " 'pop',\n",
       " ' R&B',\n",
       " 'hip hop',\n",
       " 'hip hop',\n",
       " ' pop',\n",
       " ' R&B',\n",
       " 'hip hop',\n",
       " ' pop',\n",
       " 'pop',\n",
       " 'rock',\n",
       " 'pop',\n",
       " ' R&B',\n",
       " 'pop',\n",
       " 'pop',\n",
       " 'pop',\n",
       " 'hip hop',\n",
       " ' pop',\n",
       " 'pop',\n",
       " 'hip hop',\n",
       " 'hip hop',\n",
       " ' pop',\n",
       " 'pop',\n",
       " ' R&B',\n",
       " 'Dance/Electronic',\n",
       " 'hip hop',\n",
       " ' pop',\n",
       " ' rock',\n",
       " 'hip hop',\n",
       " ' pop',\n",
       " 'hip hop',\n",
       " ' pop',\n",
       " 'hip hop',\n",
       " ' pop',\n",
       " ' R&B',\n",
       " 'pop',\n",
       " ' R&B',\n",
       " 'hip hop',\n",
       " ' pop',\n",
       " 'pop',\n",
       " ' R&B',\n",
       " 'hip hop',\n",
       " ' pop',\n",
       " 'hip hop',\n",
       " ' pop',\n",
       " ' R&B',\n",
       " ' latin',\n",
       " 'hip hop',\n",
       " ' pop',\n",
       " ' R&B',\n",
       " 'hip hop',\n",
       " 'hip hop',\n",
       " ' pop',\n",
       " 'hip hop',\n",
       " ...]"
      ]
     },
     "execution_count": 11,
     "metadata": {},
     "output_type": "execute_result"
    }
   ],
   "source": [
    "df_songs['genre'].apply(lambda x : x.split(',')).sum()"
   ]
  },
  {
   "cell_type": "code",
   "execution_count": 109,
   "metadata": {},
   "outputs": [],
   "source": [
    "genre_list = df_songs['genre'].apply(lambda x : x.split(',')).sum()\n",
    "genre_count = Counter(genre_list).most_common()\n",
    "df_genre_count = pd.DataFrame(genre_count)\n",
    "df_genre_count.columns = ['genre_name', 'count']\n",
    "df_genre_count.head(10)\n",
    "df_genre_complete = pd.concat([df_songs, df_genre_count])"
   ]
  },
  {
   "cell_type": "code",
   "execution_count": 77,
   "metadata": {},
   "outputs": [
    {
     "data": {
      "image/png": "[encoded data removed]",
      "text/plain": [
       "<Figure size 864x432 with 1 Axes>"
      ]
     },
     "metadata": {
      "needs_background": "light"
     },
     "output_type": "display_data"
    }
   ],
   "source": [
    "import seaborn as sns\n",
    "plt.figure(figsize=(12,6))\n",
    "sns.scatterplot(data=df_songs, x='energy', y='loudness', hue='genre', palette='rocket_r')\n",
    "plt.legend(bbox_to_anchor=(1,1));"
   ]
  },
  {
   "cell_type": "code",
   "execution_count": 79,
   "metadata": {},
   "outputs": [
    {
     "data": {
      "image/png": "[encoded data removed]",
      "text/plain": [
       "<Figure size 432x864 with 1 Axes>"
      ]
     },
     "metadata": {
      "needs_background": "light"
     },
     "output_type": "display_data"
    }
   ],
   "source": [
    "plt.figure(figsize = (6,12))\n",
    "popularity_genre = df_songs.groupby('genre').mean().sort_values('popularity', ascending=False)\n",
    "sns.barplot(data = popularity_genre,y =popularity_genre.index, x = 'popularity', orient='h')\n",
    "plt.show()"
   ]
  },
  {
   "cell_type": "code",
   "execution_count": 82,
   "metadata": {},
   "outputs": [
    {
     "data": {
      "image/png": "[encoded data removed]",
      "text/plain": [
       "<Figure size 360x360 with 1 Axes>"
      ]
     },
     "metadata": {
      "needs_background": "light"
     },
     "output_type": "display_data"
    }
   ],
   "source": [
    "fig, ax = plt.subplots(1, 1, figsize=(5,5))\n",
    "\n",
    "xtichlabels = 0, 235, 470, 705, 940\n",
    "\n",
    "ax.barh(df_genre_count.sort_values(by='count')['genre_name'],\n",
    "        df_genre_count.sort_values(by='count')['count'],\n",
    "        color='lightgray', edgecolor='black', linewidth=1, height=0.7\n",
    "       )\n",
    "\n",
    "# Escondendo spines de cima e da direita\n",
    "for s in [\"top\", \"right\"]:\n",
    "    ax.spines[s].set_visible(False)\n",
    "    \n",
    "# X axis\n",
    "ax.set_xlabel(\"Número de Músicas\", fontsize=12, fontweight='medium')\n",
    "ax.set_xticklabels(xtichlabels, fontsize=12)\n",
    "ax.tick_params(axis='x', which='major', labelsize=12)\n",
    "\n",
    "# Título\n",
    "ax.set_title('Gêneros', fontsize=15, fontweight='bold', x=0.4, y=1.05)\n",
    "\n",
    "plt.xlim(0,980)\n",
    "plt.tight_layout()\n",
    "plt.show()"
   ]
  },
  {
   "cell_type": "code",
   "execution_count": 22,
   "metadata": {},
   "outputs": [
    {
     "name": "stdout",
     "output_type": "stream",
     "text": [
      "[False  True]\n"
     ]
    }
   ],
   "source": [
    "values = df_songs['explicit'].value_counts()\n",
    "keys = df_songs['explicit'].unique()\n",
    "print(keys)\n"
   ]
  },
  {
   "cell_type": "code",
   "execution_count": 25,
   "metadata": {},
   "outputs": [
    {
     "data": {
      "application/vnd.plotly.v1+json": {
       "config": {
        "plotlyServerURL": "https://plot.ly"
       },
       "data": [
        {
         "hole": 0.3,
         "labels": [
          false,
          true
         ],
         "type": "pie",
         "values": [
          1449,
          551
         ]
        }
       ],
       "layout": {
        "template": {
         "data": {
          "bar": [
           {
            "error_x": {
             "color": "#2a3f5f"
            },
            "error_y": {
             "color": "#2a3f5f"
            },
            "marker": {
             "line": {
              "color": "#E5ECF6",
              "width": 0.5
             },
             "pattern": {
              "fillmode": "overlay",
              "size": 10,
              "solidity": 0.2
             }
            },
            "type": "bar"
           }
          ],
          "barpolar": [
           {
            "marker": {
             "line": {
              "color": "#E5ECF6",
              "width": 0.5
             },
             "pattern": {
              "fillmode": "overlay",
              "size": 10,
              "solidity": 0.2
             }
            },
            "type": "barpolar"
           }
          ],
          "carpet": [
           {
            "aaxis": {
             "endlinecolor": "#2a3f5f",
             "gridcolor": "white",
             "linecolor": "white",
             "minorgridcolor": "white",
             "startlinecolor": "#2a3f5f"
            },
            "baxis": {
             "endlinecolor": "#2a3f5f",
             "gridcolor": "white",
             "linecolor": "white",
             "minorgridcolor": "white",
             "startlinecolor": "#2a3f5f"
            },
            "type": "carpet"
           }
          ],
          "choropleth": [
           {
            "colorbar": {
             "outlinewidth": 0,
             "ticks": ""
            },
            "type": "choropleth"
           }
          ],
          "contour": [
           {
            "colorbar": {
             "outlinewidth": 0,
             "ticks": ""
            },
            "colorscale": [
             [
              0,
              "#0d0887"
             ],
             [
              0.1111111111111111,
              "#46039f"
             ],
             [
              0.2222222222222222,
              "#7201a8"
             ],
             [
              0.3333333333333333,
              "#9c179e"
             ],
             [
              0.4444444444444444,
              "#bd3786"
             ],
             [
              0.5555555555555556,
              "#d8576b"
             ],
             [
              0.6666666666666666,
              "#ed7953"
             ],
             [
              0.7777777777777778,
              "#fb9f3a"
             ],
             [
              0.8888888888888888,
              "#fdca26"
             ],
             [
              1,
              "#f0f921"
             ]
            ],
            "type": "contour"
           }
          ],
          "contourcarpet": [
           {
            "colorbar": {
             "outlinewidth": 0,
             "ticks": ""
            },
            "type": "contourcarpet"
           }
          ],
          "heatmap": [
           {
            "colorbar": {
             "outlinewidth": 0,
             "ticks": ""
            },
            "colorscale": [
             [
              0,
              "#0d0887"
             ],
             [
              0.1111111111111111,
              "#46039f"
             ],
             [
              0.2222222222222222,
              "#7201a8"
             ],
             [
              0.3333333333333333,
              "#9c179e"
             ],
             [
              0.4444444444444444,
              "#bd3786"
             ],
             [
              0.5555555555555556,
              "#d8576b"
             ],
             [
              0.6666666666666666,
              "#ed7953"
             ],
             [
              0.7777777777777778,
              "#fb9f3a"
             ],
             [
              0.8888888888888888,
              "#fdca26"
             ],
             [
              1,
              "#f0f921"
             ]
            ],
            "type": "heatmap"
           }
          ],
          "heatmapgl": [
           {
            "colorbar": {
             "outlinewidth": 0,
             "ticks": ""
            },
            "colorscale": [
             [
              0,
              "#0d0887"
             ],
             [
              0.1111111111111111,
              "#46039f"
             ],
             [
              0.2222222222222222,
              "#7201a8"
             ],
             [
              0.3333333333333333,
              "#9c179e"
             ],
             [
              0.4444444444444444,
              "#bd3786"
             ],
             [
              0.5555555555555556,
              "#d8576b"
             ],
             [
              0.6666666666666666,
              "#ed7953"
             ],
             [
              0.7777777777777778,
              "#fb9f3a"
             ],
             [
              0.8888888888888888,
              "#fdca26"
             ],
             [
              1,
              "#f0f921"
             ]
            ],
            "type": "heatmapgl"
           }
          ],
          "histogram": [
           {
            "marker": {
             "pattern": {
              "fillmode": "overlay",
              "size": 10,
              "solidity": 0.2
             }
            },
            "type": "histogram"
           }
          ],
          "histogram2d": [
           {
            "colorbar": {
             "outlinewidth": 0,
             "ticks": ""
            },
            "colorscale": [
             [
              0,
              "#0d0887"
             ],
             [
              0.1111111111111111,
              "#46039f"
             ],
             [
              0.2222222222222222,
              "#7201a8"
             ],
             [
              0.3333333333333333,
              "#9c179e"
             ],
             [
              0.4444444444444444,
              "#bd3786"
             ],
             [
              0.5555555555555556,
              "#d8576b"
             ],
             [
              0.6666666666666666,
              "#ed7953"
             ],
             [
              0.7777777777777778,
              "#fb9f3a"
             ],
             [
              0.8888888888888888,
              "#fdca26"
             ],
             [
              1,
              "#f0f921"
             ]
            ],
            "type": "histogram2d"
           }
          ],
          "histogram2dcontour": [
           {
            "colorbar": {
             "outlinewidth": 0,
             "ticks": ""
            },
            "colorscale": [
             [
              0,
              "#0d0887"
             ],
             [
              0.1111111111111111,
              "#46039f"
             ],
             [
              0.2222222222222222,
              "#7201a8"
             ],
             [
              0.3333333333333333,
              "#9c179e"
             ],
             [
              0.4444444444444444,
              "#bd3786"
             ],
             [
              0.5555555555555556,
              "#d8576b"
             ],
             [
              0.6666666666666666,
              "#ed7953"
             ],
             [
              0.7777777777777778,
              "#fb9f3a"
             ],
             [
              0.8888888888888888,
              "#fdca26"
             ],
             [
              1,
              "#f0f921"
             ]
            ],
            "type": "histogram2dcontour"
           }
          ],
          "mesh3d": [
           {
            "colorbar": {
             "outlinewidth": 0,
             "ticks": ""
            },
            "type": "mesh3d"
           }
          ],
          "parcoords": [
           {
            "line": {
             "colorbar": {
              "outlinewidth": 0,
              "ticks": ""
             }
            },
            "type": "parcoords"
           }
          ],
          "pie": [
           {
            "automargin": true,
            "type": "pie"
           }
          ],
          "scatter": [
           {
            "fillpattern": {
             "fillmode": "overlay",
             "size": 10,
             "solidity": 0.2
            },
            "type": "scatter"
           }
          ],
          "scatter3d": [
           {
            "line": {
             "colorbar": {
              "outlinewidth": 0,
              "ticks": ""
             }
            },
            "marker": {
             "colorbar": {
              "outlinewidth": 0,
              "ticks": ""
             }
            },
            "type": "scatter3d"
           }
          ],
          "scattercarpet": [
           {
            "marker": {
             "colorbar": {
              "outlinewidth": 0,
              "ticks": ""
             }
            },
            "type": "scattercarpet"
           }
          ],
          "scattergeo": [
           {
            "marker": {
             "colorbar": {
              "outlinewidth": 0,
              "ticks": ""
             }
            },
            "type": "scattergeo"
           }
          ],
          "scattergl": [
           {
            "marker": {
             "colorbar": {
              "outlinewidth": 0,
              "ticks": ""
             }
            },
            "type": "scattergl"
           }
          ],
          "scattermapbox": [
           {
            "marker": {
             "colorbar": {
              "outlinewidth": 0,
              "ticks": ""
             }
            },
            "type": "scattermapbox"
           }
          ],
          "scatterpolar": [
           {
            "marker": {
             "colorbar": {
              "outlinewidth": 0,
              "ticks": ""
             }
            },
            "type": "scatterpolar"
           }
          ],
          "scatterpolargl": [
           {
            "marker": {
             "colorbar": {
              "outlinewidth": 0,
              "ticks": ""
             }
            },
            "type": "scatterpolargl"
           }
          ],
          "scatterternary": [
           {
            "marker": {
             "colorbar": {
              "outlinewidth": 0,
              "ticks": ""
             }
            },
            "type": "scatterternary"
           }
          ],
          "surface": [
           {
            "colorbar": {
             "outlinewidth": 0,
             "ticks": ""
            },
            "colorscale": [
             [
              0,
              "#0d0887"
             ],
             [
              0.1111111111111111,
              "#46039f"
             ],
             [
              0.2222222222222222,
              "#7201a8"
             ],
             [
              0.3333333333333333,
              "#9c179e"
             ],
             [
              0.4444444444444444,
              "#bd3786"
             ],
             [
              0.5555555555555556,
              "#d8576b"
             ],
             [
              0.6666666666666666,
              "#ed7953"
             ],
             [
              0.7777777777777778,
              "#fb9f3a"
             ],
             [
              0.8888888888888888,
              "#fdca26"
             ],
             [
              1,
              "#f0f921"
             ]
            ],
            "type": "surface"
           }
          ],
          "table": [
           {
            "cells": {
             "fill": {
              "color": "#EBF0F8"
             },
             "line": {
              "color": "white"
             }
            },
            "header": {
             "fill": {
              "color": "#C8D4E3"
             },
             "line": {
              "color": "white"
             }
            },
            "type": "table"
           }
          ]
         },
         "layout": {
          "annotationdefaults": {
           "arrowcolor": "#2a3f5f",
           "arrowhead": 0,
           "arrowwidth": 1
          },
          "autotypenumbers": "strict",
          "coloraxis": {
           "colorbar": {
            "outlinewidth": 0,
            "ticks": ""
           }
          },
          "colorscale": {
           "diverging": [
            [
             0,
             "#8e0152"
            ],
            [
             0.1,
             "#c51b7d"
            ],
            [
             0.2,
             "#de77ae"
            ],
            [
             0.3,
             "#f1b6da"
            ],
            [
             0.4,
             "#fde0ef"
            ],
            [
             0.5,
             "#f7f7f7"
            ],
            [
             0.6,
             "#e6f5d0"
            ],
            [
             0.7,
             "#b8e186"
            ],
            [
             0.8,
             "#7fbc41"
            ],
            [
             0.9,
             "#4d9221"
            ],
            [
             1,
             "#276419"
            ]
           ],
           "sequential": [
            [
             0,
             "#0d0887"
            ],
            [
             0.1111111111111111,
             "#46039f"
            ],
            [
             0.2222222222222222,
             "#7201a8"
            ],
            [
             0.3333333333333333,
             "#9c179e"
            ],
            [
             0.4444444444444444,
             "#bd3786"
            ],
            [
             0.5555555555555556,
             "#d8576b"
            ],
            [
             0.6666666666666666,
             "#ed7953"
            ],
            [
             0.7777777777777778,
             "#fb9f3a"
            ],
            [
             0.8888888888888888,
             "#fdca26"
            ],
            [
             1,
             "#f0f921"
            ]
           ],
           "sequentialminus": [
            [
             0,
             "#0d0887"
            ],
            [
             0.1111111111111111,
             "#46039f"
            ],
            [
             0.2222222222222222,
             "#7201a8"
            ],
            [
             0.3333333333333333,
             "#9c179e"
            ],
            [
             0.4444444444444444,
             "#bd3786"
            ],
            [
             0.5555555555555556,
             "#d8576b"
            ],
            [
             0.6666666666666666,
             "#ed7953"
            ],
            [
             0.7777777777777778,
             "#fb9f3a"
            ],
            [
             0.8888888888888888,
             "#fdca26"
            ],
            [
             1,
             "#f0f921"
            ]
           ]
          },
          "colorway": [
           "#636efa",
           "#EF553B",
           "#00cc96",
           "#ab63fa",
           "#FFA15A",
           "#19d3f3",
           "#FF6692",
           "#B6E880",
           "#FF97FF",
           "#FECB52"
          ],
          "font": {
           "color": "#2a3f5f"
          },
          "geo": {
           "bgcolor": "white",
           "lakecolor": "white",
           "landcolor": "#E5ECF6",
           "showlakes": true,
           "showland": true,
           "subunitcolor": "white"
          },
          "hoverlabel": {
           "align": "left"
          },
          "hovermode": "closest",
          "mapbox": {
           "style": "light"
          },
          "paper_bgcolor": "white",
          "plot_bgcolor": "#E5ECF6",
          "polar": {
           "angularaxis": {
            "gridcolor": "white",
            "linecolor": "white",
            "ticks": ""
           },
           "bgcolor": "#E5ECF6",
           "radialaxis": {
            "gridcolor": "white",
            "linecolor": "white",
            "ticks": ""
           }
          },
          "scene": {
           "xaxis": {
            "backgroundcolor": "#E5ECF6",
            "gridcolor": "white",
            "gridwidth": 2,
            "linecolor": "white",
            "showbackground": true,
            "ticks": "",
            "zerolinecolor": "white"
           },
           "yaxis": {
            "backgroundcolor": "#E5ECF6",
            "gridcolor": "white",
            "gridwidth": 2,
            "linecolor": "white",
            "showbackground": true,
            "ticks": "",
            "zerolinecolor": "white"
           },
           "zaxis": {
            "backgroundcolor": "#E5ECF6",
            "gridcolor": "white",
            "gridwidth": 2,
            "linecolor": "white",
            "showbackground": true,
            "ticks": "",
            "zerolinecolor": "white"
           }
          },
          "shapedefaults": {
           "line": {
            "color": "#2a3f5f"
           }
          },
          "ternary": {
           "aaxis": {
            "gridcolor": "white",
            "linecolor": "white",
            "ticks": ""
           },
           "baxis": {
            "gridcolor": "white",
            "linecolor": "white",
            "ticks": ""
           },
           "bgcolor": "#E5ECF6",
           "caxis": {
            "gridcolor": "white",
            "linecolor": "white",
            "ticks": ""
           }
          },
          "title": {
           "x": 0.05
          },
          "xaxis": {
           "automargin": true,
           "gridcolor": "white",
           "linecolor": "white",
           "ticks": "",
           "title": {
            "standoff": 15
           },
           "zerolinecolor": "white",
           "zerolinewidth": 2
          },
          "yaxis": {
           "automargin": true,
           "gridcolor": "white",
           "linecolor": "white",
           "ticks": "",
           "title": {
            "standoff": 15
           },
           "zerolinecolor": "white",
           "zerolinewidth": 2
          }
         }
        }
       }
      }
     },
     "metadata": {},
     "output_type": "display_data"
    }
   ],
   "source": [
    "fig = go.Figure(go.Pie(values= values, labels = keys, hole = 0.3))\n",
    "fig.show()"
   ]
  },
  {
   "cell_type": "code",
   "execution_count": 29,
   "metadata": {},
   "outputs": [
    {
     "data": {
      "application/vnd.plotly.v1+json": {
       "config": {
        "plotlyServerURL": "https://plot.ly"
       },
       "data": [
        {
         "domain": {
          "x": [
           0,
           1
          ],
          "y": [
           0,
           1
          ]
         },
         "hovertemplate": "value=%{value}<extra></extra>",
         "legendgroup": "",
         "name": "",
         "showlegend": false,
         "type": "pie",
         "values": [
          1449,
          551
         ]
        }
       ],
       "layout": {
        "legend": {
         "tracegroupgap": 0
        },
        "margin": {
         "t": 60
        },
        "template": {
         "data": {
          "bar": [
           {
            "error_x": {
             "color": "#2a3f5f"
            },
            "error_y": {
             "color": "#2a3f5f"
            },
            "marker": {
             "line": {
              "color": "#E5ECF6",
              "width": 0.5
             },
             "pattern": {
              "fillmode": "overlay",
              "size": 10,
              "solidity": 0.2
             }
            },
            "type": "bar"
           }
          ],
          "barpolar": [
           {
            "marker": {
             "line": {
              "color": "#E5ECF6",
              "width": 0.5
             },
             "pattern": {
              "fillmode": "overlay",
              "size": 10,
              "solidity": 0.2
             }
            },
            "type": "barpolar"
           }
          ],
          "carpet": [
           {
            "aaxis": {
             "endlinecolor": "#2a3f5f",
             "gridcolor": "white",
             "linecolor": "white",
             "minorgridcolor": "white",
             "startlinecolor": "#2a3f5f"
            },
            "baxis": {
             "endlinecolor": "#2a3f5f",
             "gridcolor": "white",
             "linecolor": "white",
             "minorgridcolor": "white",
             "startlinecolor": "#2a3f5f"
            },
            "type": "carpet"
           }
          ],
          "choropleth": [
           {
            "colorbar": {
             "outlinewidth": 0,
             "ticks": ""
            },
            "type": "choropleth"
           }
          ],
          "contour": [
           {
            "colorbar": {
             "outlinewidth": 0,
             "ticks": ""
            },
            "colorscale": [
             [
              0,
              "#0d0887"
             ],
             [
              0.1111111111111111,
              "#46039f"
             ],
             [
              0.2222222222222222,
              "#7201a8"
             ],
             [
              0.3333333333333333,
              "#9c179e"
             ],
             [
              0.4444444444444444,
              "#bd3786"
             ],
             [
              0.5555555555555556,
              "#d8576b"
             ],
             [
              0.6666666666666666,
              "#ed7953"
             ],
             [
              0.7777777777777778,
              "#fb9f3a"
             ],
             [
              0.8888888888888888,
              "#fdca26"
             ],
             [
              1,
              "#f0f921"
             ]
            ],
            "type": "contour"
           }
          ],
          "contourcarpet": [
           {
            "colorbar": {
             "outlinewidth": 0,
             "ticks": ""
            },
            "type": "contourcarpet"
           }
          ],
          "heatmap": [
           {
            "colorbar": {
             "outlinewidth": 0,
             "ticks": ""
            },
            "colorscale": [
             [
              0,
              "#0d0887"
             ],
             [
              0.1111111111111111,
              "#46039f"
             ],
             [
              0.2222222222222222,
              "#7201a8"
             ],
             [
              0.3333333333333333,
              "#9c179e"
             ],
             [
              0.4444444444444444,
              "#bd3786"
             ],
             [
              0.5555555555555556,
              "#d8576b"
             ],
             [
              0.6666666666666666,
              "#ed7953"
             ],
             [
              0.7777777777777778,
              "#fb9f3a"
             ],
             [
              0.8888888888888888,
              "#fdca26"
             ],
             [
              1,
              "#f0f921"
             ]
            ],
            "type": "heatmap"
           }
          ],
          "heatmapgl": [
           {
            "colorbar": {
             "outlinewidth": 0,
             "ticks": ""
            },
            "colorscale": [
             [
              0,
              "#0d0887"
             ],
             [
              0.1111111111111111,
              "#46039f"
             ],
             [
              0.2222222222222222,
              "#7201a8"
             ],
             [
              0.3333333333333333,
              "#9c179e"
             ],
             [
              0.4444444444444444,
              "#bd3786"
             ],
             [
              0.5555555555555556,
              "#d8576b"
             ],
             [
              0.6666666666666666,
              "#ed7953"
             ],
             [
              0.7777777777777778,
              "#fb9f3a"
             ],
             [
              0.8888888888888888,
              "#fdca26"
             ],
             [
              1,
              "#f0f921"
             ]
            ],
            "type": "heatmapgl"
           }
          ],
          "histogram": [
           {
            "marker": {
             "pattern": {
              "fillmode": "overlay",
              "size": 10,
              "solidity": 0.2
             }
            },
            "type": "histogram"
           }
          ],
          "histogram2d": [
           {
            "colorbar": {
             "outlinewidth": 0,
             "ticks": ""
            },
            "colorscale": [
             [
              0,
              "#0d0887"
             ],
             [
              0.1111111111111111,
              "#46039f"
             ],
             [
              0.2222222222222222,
              "#7201a8"
             ],
             [
              0.3333333333333333,
              "#9c179e"
             ],
             [
              0.4444444444444444,
              "#bd3786"
             ],
             [
              0.5555555555555556,
              "#d8576b"
             ],
             [
              0.6666666666666666,
              "#ed7953"
             ],
             [
              0.7777777777777778,
              "#fb9f3a"
             ],
             [
              0.8888888888888888,
              "#fdca26"
             ],
             [
              1,
              "#f0f921"
             ]
            ],
            "type": "histogram2d"
           }
          ],
          "histogram2dcontour": [
           {
            "colorbar": {
             "outlinewidth": 0,
             "ticks": ""
            },
            "colorscale": [
             [
              0,
              "#0d0887"
             ],
             [
              0.1111111111111111,
              "#46039f"
             ],
             [
              0.2222222222222222,
              "#7201a8"
             ],
             [
              0.3333333333333333,
              "#9c179e"
             ],
             [
              0.4444444444444444,
              "#bd3786"
             ],
             [
              0.5555555555555556,
              "#d8576b"
             ],
             [
              0.6666666666666666,
              "#ed7953"
             ],
             [
              0.7777777777777778,
              "#fb9f3a"
             ],
             [
              0.8888888888888888,
              "#fdca26"
             ],
             [
              1,
              "#f0f921"
             ]
            ],
            "type": "histogram2dcontour"
           }
          ],
          "mesh3d": [
           {
            "colorbar": {
             "outlinewidth": 0,
             "ticks": ""
            },
            "type": "mesh3d"
           }
          ],
          "parcoords": [
           {
            "line": {
             "colorbar": {
              "outlinewidth": 0,
              "ticks": ""
             }
            },
            "type": "parcoords"
           }
          ],
          "pie": [
           {
            "automargin": true,
            "type": "pie"
           }
          ],
          "scatter": [
           {
            "fillpattern": {
             "fillmode": "overlay",
             "size": 10,
             "solidity": 0.2
            },
            "type": "scatter"
           }
          ],
          "scatter3d": [
           {
            "line": {
             "colorbar": {
              "outlinewidth": 0,
              "ticks": ""
             }
            },
            "marker": {
             "colorbar": {
              "outlinewidth": 0,
              "ticks": ""
             }
            },
            "type": "scatter3d"
           }
          ],
          "scattercarpet": [
           {
            "marker": {
             "colorbar": {
              "outlinewidth": 0,
              "ticks": ""
             }
            },
            "type": "scattercarpet"
           }
          ],
          "scattergeo": [
           {
            "marker": {
             "colorbar": {
              "outlinewidth": 0,
              "ticks": ""
             }
            },
            "type": "scattergeo"
           }
          ],
          "scattergl": [
           {
            "marker": {
             "colorbar": {
              "outlinewidth": 0,
              "ticks": ""
             }
            },
            "type": "scattergl"
           }
          ],
          "scattermapbox": [
           {
            "marker": {
             "colorbar": {
              "outlinewidth": 0,
              "ticks": ""
             }
            },
            "type": "scattermapbox"
           }
          ],
          "scatterpolar": [
           {
            "marker": {
             "colorbar": {
              "outlinewidth": 0,
              "ticks": ""
             }
            },
            "type": "scatterpolar"
           }
          ],
          "scatterpolargl": [
           {
            "marker": {
             "colorbar": {
              "outlinewidth": 0,
              "ticks": ""
             }
            },
            "type": "scatterpolargl"
           }
          ],
          "scatterternary": [
           {
            "marker": {
             "colorbar": {
              "outlinewidth": 0,
              "ticks": ""
             }
            },
            "type": "scatterternary"
           }
          ],
          "surface": [
           {
            "colorbar": {
             "outlinewidth": 0,
             "ticks": ""
            },
            "colorscale": [
             [
              0,
              "#0d0887"
             ],
             [
              0.1111111111111111,
              "#46039f"
             ],
             [
              0.2222222222222222,
              "#7201a8"
             ],
             [
              0.3333333333333333,
              "#9c179e"
             ],
             [
              0.4444444444444444,
              "#bd3786"
             ],
             [
              0.5555555555555556,
              "#d8576b"
             ],
             [
              0.6666666666666666,
              "#ed7953"
             ],
             [
              0.7777777777777778,
              "#fb9f3a"
             ],
             [
              0.8888888888888888,
              "#fdca26"
             ],
             [
              1,
              "#f0f921"
             ]
            ],
            "type": "surface"
           }
          ],
          "table": [
           {
            "cells": {
             "fill": {
              "color": "#EBF0F8"
             },
             "line": {
              "color": "white"
             }
            },
            "header": {
             "fill": {
              "color": "#C8D4E3"
             },
             "line": {
              "color": "white"
             }
            },
            "type": "table"
           }
          ]
         },
         "layout": {
          "annotationdefaults": {
           "arrowcolor": "#2a3f5f",
           "arrowhead": 0,
           "arrowwidth": 1
          },
          "autotypenumbers": "strict",
          "coloraxis": {
           "colorbar": {
            "outlinewidth": 0,
            "ticks": ""
           }
          },
          "colorscale": {
           "diverging": [
            [
             0,
             "#8e0152"
            ],
            [
             0.1,
             "#c51b7d"
            ],
            [
             0.2,
             "#de77ae"
            ],
            [
             0.3,
             "#f1b6da"
            ],
            [
             0.4,
             "#fde0ef"
            ],
            [
             0.5,
             "#f7f7f7"
            ],
            [
             0.6,
             "#e6f5d0"
            ],
            [
             0.7,
             "#b8e186"
            ],
            [
             0.8,
             "#7fbc41"
            ],
            [
             0.9,
             "#4d9221"
            ],
            [
             1,
             "#276419"
            ]
           ],
           "sequential": [
            [
             0,
             "#0d0887"
            ],
            [
             0.1111111111111111,
             "#46039f"
            ],
            [
             0.2222222222222222,
             "#7201a8"
            ],
            [
             0.3333333333333333,
             "#9c179e"
            ],
            [
             0.4444444444444444,
             "#bd3786"
            ],
            [
             0.5555555555555556,
             "#d8576b"
            ],
            [
             0.6666666666666666,
             "#ed7953"
            ],
            [
             0.7777777777777778,
             "#fb9f3a"
            ],
            [
             0.8888888888888888,
             "#fdca26"
            ],
            [
             1,
             "#f0f921"
            ]
           ],
           "sequentialminus": [
            [
             0,
             "#0d0887"
            ],
            [
             0.1111111111111111,
             "#46039f"
            ],
            [
             0.2222222222222222,
             "#7201a8"
            ],
            [
             0.3333333333333333,
             "#9c179e"
            ],
            [
             0.4444444444444444,
             "#bd3786"
            ],
            [
             0.5555555555555556,
             "#d8576b"
            ],
            [
             0.6666666666666666,
             "#ed7953"
            ],
            [
             0.7777777777777778,
             "#fb9f3a"
            ],
            [
             0.8888888888888888,
             "#fdca26"
            ],
            [
             1,
             "#f0f921"
            ]
           ]
          },
          "colorway": [
           "#636efa",
           "#EF553B",
           "#00cc96",
           "#ab63fa",
           "#FFA15A",
           "#19d3f3",
           "#FF6692",
           "#B6E880",
           "#FF97FF",
           "#FECB52"
          ],
          "font": {
           "color": "#2a3f5f"
          },
          "geo": {
           "bgcolor": "white",
           "lakecolor": "white",
           "landcolor": "#E5ECF6",
           "showlakes": true,
           "showland": true,
           "subunitcolor": "white"
          },
          "hoverlabel": {
           "align": "left"
          },
          "hovermode": "closest",
          "mapbox": {
           "style": "light"
          },
          "paper_bgcolor": "white",
          "plot_bgcolor": "#E5ECF6",
          "polar": {
           "angularaxis": {
            "gridcolor": "white",
            "linecolor": "white",
            "ticks": ""
           },
           "bgcolor": "#E5ECF6",
           "radialaxis": {
            "gridcolor": "white",
            "linecolor": "white",
            "ticks": ""
           }
          },
          "scene": {
           "xaxis": {
            "backgroundcolor": "#E5ECF6",
            "gridcolor": "white",
            "gridwidth": 2,
            "linecolor": "white",
            "showbackground": true,
            "ticks": "",
            "zerolinecolor": "white"
           },
           "yaxis": {
            "backgroundcolor": "#E5ECF6",
            "gridcolor": "white",
            "gridwidth": 2,
            "linecolor": "white",
            "showbackground": true,
            "ticks": "",
            "zerolinecolor": "white"
           },
           "zaxis": {
            "backgroundcolor": "#E5ECF6",
            "gridcolor": "white",
            "gridwidth": 2,
            "linecolor": "white",
            "showbackground": true,
            "ticks": "",
            "zerolinecolor": "white"
           }
          },
          "shapedefaults": {
           "line": {
            "color": "#2a3f5f"
           }
          },
          "ternary": {
           "aaxis": {
            "gridcolor": "white",
            "linecolor": "white",
            "ticks": ""
           },
           "baxis": {
            "gridcolor": "white",
            "linecolor": "white",
            "ticks": ""
           },
           "bgcolor": "#E5ECF6",
           "caxis": {
            "gridcolor": "white",
            "linecolor": "white",
            "ticks": ""
           }
          },
          "title": {
           "x": 0.05
          },
          "xaxis": {
           "automargin": true,
           "gridcolor": "white",
           "linecolor": "white",
           "ticks": "",
           "title": {
            "standoff": 15
           },
           "zerolinecolor": "white",
           "zerolinewidth": 2
          },
          "yaxis": {
           "automargin": true,
           "gridcolor": "white",
           "linecolor": "white",
           "ticks": "",
           "title": {
            "standoff": 15
           },
           "zerolinecolor": "white",
           "zerolinewidth": 2
          }
         }
        }
       }
      }
     },
     "metadata": {},
     "output_type": "display_data"
    }
   ],
   "source": [
    "fig = go.Figure(px.pie(values= values, labels = keys))\n",
    "fig.show()"
   ]
  },
  {
   "cell_type": "code",
   "execution_count": null,
   "metadata": {},
   "outputs": [],
   "source": [
    "#Explicit por genero"
   ]
  },
  {
   "cell_type": "code",
   "execution_count": 32,
   "metadata": {},
   "outputs": [
    {
     "data": {
      "text/html": [
       "<div>\n",
       "<style scoped>\n",
       "    .dataframe tbody tr th:only-of-type {\n",
       "        vertical-align: middle;\n",
       "    }\n",
       "\n",
       "    .dataframe tbody tr th {\n",
       "        vertical-align: top;\n",
       "    }\n",
       "\n",
       "    .dataframe thead th {\n",
       "        text-align: right;\n",
       "    }\n",
       "</style>\n",
       "<table border=\"1\" class=\"dataframe\">\n",
       "  <thead>\n",
       "    <tr style=\"text-align: right;\">\n",
       "      <th></th>\n",
       "      <th>artist_name</th>\n",
       "      <th>count</th>\n",
       "    </tr>\n",
       "  </thead>\n",
       "  <tbody>\n",
       "    <tr>\n",
       "      <th>0</th>\n",
       "      <td>Rihanna</td>\n",
       "      <td>25</td>\n",
       "    </tr>\n",
       "    <tr>\n",
       "      <th>1</th>\n",
       "      <td>Drake</td>\n",
       "      <td>23</td>\n",
       "    </tr>\n",
       "    <tr>\n",
       "      <th>2</th>\n",
       "      <td>Eminem</td>\n",
       "      <td>21</td>\n",
       "    </tr>\n",
       "    <tr>\n",
       "      <th>3</th>\n",
       "      <td>Calvin Harris</td>\n",
       "      <td>20</td>\n",
       "    </tr>\n",
       "    <tr>\n",
       "      <th>4</th>\n",
       "      <td>Britney Spears</td>\n",
       "      <td>19</td>\n",
       "    </tr>\n",
       "    <tr>\n",
       "      <th>5</th>\n",
       "      <td>David Guetta</td>\n",
       "      <td>18</td>\n",
       "    </tr>\n",
       "    <tr>\n",
       "      <th>6</th>\n",
       "      <td>Kanye West</td>\n",
       "      <td>17</td>\n",
       "    </tr>\n",
       "    <tr>\n",
       "      <th>7</th>\n",
       "      <td>Chris Brown</td>\n",
       "      <td>17</td>\n",
       "    </tr>\n",
       "    <tr>\n",
       "      <th>8</th>\n",
       "      <td>Beyoncé</td>\n",
       "      <td>16</td>\n",
       "    </tr>\n",
       "    <tr>\n",
       "      <th>9</th>\n",
       "      <td>Katy Perry</td>\n",
       "      <td>16</td>\n",
       "    </tr>\n",
       "  </tbody>\n",
       "</table>\n",
       "</div>"
      ],
      "text/plain": [
       "      artist_name  count\n",
       "0         Rihanna     25\n",
       "1           Drake     23\n",
       "2          Eminem     21\n",
       "3   Calvin Harris     20\n",
       "4  Britney Spears     19\n",
       "5    David Guetta     18\n",
       "6      Kanye West     17\n",
       "7     Chris Brown     17\n",
       "8         Beyoncé     16\n",
       "9      Katy Perry     16"
      ]
     },
     "execution_count": 32,
     "metadata": {},
     "output_type": "execute_result"
    }
   ],
   "source": [
    "#Autoria\n",
    "artist_list = df_songs['artist'].apply(lambda x : x.split(',')).sum()\n",
    "artist_count = Counter(artist_list).most_common()\n",
    "df_artist_count = pd.DataFrame(artist_count)\n",
    "df_artist_count.columns = ['artist_name', 'count']\n",
    "df_artist_count.head(10)"
   ]
  },
  {
   "cell_type": "code",
   "execution_count": 33,
   "metadata": {},
   "outputs": [
    {
     "data": {
      "text/html": [
       "<div>\n",
       "<style scoped>\n",
       "    .dataframe tbody tr th:only-of-type {\n",
       "        vertical-align: middle;\n",
       "    }\n",
       "\n",
       "    .dataframe tbody tr th {\n",
       "        vertical-align: top;\n",
       "    }\n",
       "\n",
       "    .dataframe thead th {\n",
       "        text-align: right;\n",
       "    }\n",
       "</style>\n",
       "<table border=\"1\" class=\"dataframe\">\n",
       "  <thead>\n",
       "    <tr style=\"text-align: right;\">\n",
       "      <th></th>\n",
       "      <th>artist_name</th>\n",
       "      <th>count</th>\n",
       "    </tr>\n",
       "  </thead>\n",
       "  <tbody>\n",
       "    <tr>\n",
       "      <th>0</th>\n",
       "      <td>Rihanna</td>\n",
       "      <td>25</td>\n",
       "    </tr>\n",
       "    <tr>\n",
       "      <th>1</th>\n",
       "      <td>Drake</td>\n",
       "      <td>23</td>\n",
       "    </tr>\n",
       "    <tr>\n",
       "      <th>2</th>\n",
       "      <td>Eminem</td>\n",
       "      <td>21</td>\n",
       "    </tr>\n",
       "    <tr>\n",
       "      <th>3</th>\n",
       "      <td>Calvin Harris</td>\n",
       "      <td>20</td>\n",
       "    </tr>\n",
       "    <tr>\n",
       "      <th>4</th>\n",
       "      <td>Britney Spears</td>\n",
       "      <td>19</td>\n",
       "    </tr>\n",
       "    <tr>\n",
       "      <th>5</th>\n",
       "      <td>David Guetta</td>\n",
       "      <td>18</td>\n",
       "    </tr>\n",
       "    <tr>\n",
       "      <th>6</th>\n",
       "      <td>Kanye West</td>\n",
       "      <td>17</td>\n",
       "    </tr>\n",
       "    <tr>\n",
       "      <th>7</th>\n",
       "      <td>Chris Brown</td>\n",
       "      <td>17</td>\n",
       "    </tr>\n",
       "    <tr>\n",
       "      <th>8</th>\n",
       "      <td>Beyoncé</td>\n",
       "      <td>16</td>\n",
       "    </tr>\n",
       "    <tr>\n",
       "      <th>9</th>\n",
       "      <td>Katy Perry</td>\n",
       "      <td>16</td>\n",
       "    </tr>\n",
       "  </tbody>\n",
       "</table>\n",
       "</div>"
      ],
      "text/plain": [
       "      artist_name  count\n",
       "0         Rihanna     25\n",
       "1           Drake     23\n",
       "2          Eminem     21\n",
       "3   Calvin Harris     20\n",
       "4  Britney Spears     19\n",
       "5    David Guetta     18\n",
       "6      Kanye West     17\n",
       "7     Chris Brown     17\n",
       "8         Beyoncé     16\n",
       "9      Katy Perry     16"
      ]
     },
     "execution_count": 33,
     "metadata": {},
     "output_type": "execute_result"
    }
   ],
   "source": [
    "df_artist_top_10 = df_artist_count.iloc[0:10,:]\n",
    "df_artist_top_10"
   ]
  },
  {
   "cell_type": "code",
   "execution_count": 34,
   "metadata": {},
   "outputs": [
    {
     "data": {
      "image/png": "[encoded data removed]",
      "text/plain": [
       "<Figure size 360x360 with 1 Axes>"
      ]
     },
     "metadata": {
      "needs_background": "light"
     },
     "output_type": "display_data"
    }
   ],
   "source": [
    "fig, ax = plt.subplots(1, 1, figsize=(5,5))\n",
    "\n",
    "xtichlabels = 0, 5, 10, 15, 20, 25, 30\n",
    "\n",
    "ax.barh(df_artist_top_10.sort_values(by='count')['artist_name'],\n",
    "        df_artist_top_10.sort_values(by='count')['count'],\n",
    "        color='lightgray', edgecolor='black', linewidth=1, height=0.7\n",
    "       )\n",
    "\n",
    "# Esconde a grade\n",
    "for s in [\"top\", \"right\"]:\n",
    "    ax.spines[s].set_visible(False)\n",
    "    \n",
    "# X axis\n",
    "ax.set_xlabel(\"Number of Songs\", fontsize=12, fontweight='medium')\n",
    "ax.set_xticklabels(xtichlabels, fontsize=12)\n",
    "ax.tick_params(axis='x', which='major', labelsize=12)\n",
    "\n",
    "# Title\n",
    "ax.set_title('Top 10 artist ', fontsize=15, fontweight='bold', x=0.4, y=1.05)\n",
    "\n",
    "plt.xlim(0,30)\n",
    "plt.tight_layout()\n",
    "plt.show()"
   ]
  },
  {
   "cell_type": "code",
   "execution_count": 83,
   "metadata": {},
   "outputs": [
    {
     "name": "stdout",
     "output_type": "stream",
     "text": [
      "           genre_name  count\n",
      "0                 pop    936\n",
      "1             hip hop    776\n",
      "2                 pop    697\n",
      "3                 R&B    439\n",
      "4    Dance/Electronic    349\n",
      "5                rock    162\n",
      "6                rock     72\n",
      "7               metal     57\n",
      "8               latin     49\n",
      "9    Dance/Electronic     41\n",
      "10              set()     22\n",
      "11      Folk/Acoustic     16\n",
      "12              latin     15\n",
      "13                R&B     13\n",
      "14            country     11\n",
      "15            country     10\n",
      "16  World/Traditional     10\n",
      "17              metal      9\n",
      "18     easy listening      6\n",
      "19      Folk/Acoustic      4\n",
      "20              blues      4\n",
      "21            hip hop      2\n",
      "22               jazz      2\n",
      "23          classical      1\n",
      "24     easy listening      1\n"
     ]
    }
   ],
   "source": [
    "print(df_genre_count)"
   ]
  },
  {
   "cell_type": "code",
   "execution_count": null,
   "metadata": {},
   "outputs": [],
   "source": [
    "## Atributos ao longo dos anos"
   ]
  },
  {
   "cell_type": "code",
   "execution_count": 44,
   "metadata": {},
   "outputs": [
    {
     "data": {
      "text/html": [
       "<div>\n",
       "<style scoped>\n",
       "    .dataframe tbody tr th:only-of-type {\n",
       "        vertical-align: middle;\n",
       "    }\n",
       "\n",
       "    .dataframe tbody tr th {\n",
       "        vertical-align: top;\n",
       "    }\n",
       "\n",
       "    .dataframe thead th {\n",
       "        text-align: right;\n",
       "    }\n",
       "</style>\n",
       "<table border=\"1\" class=\"dataframe\">\n",
       "  <thead>\n",
       "    <tr style=\"text-align: right;\">\n",
       "      <th></th>\n",
       "      <th>year</th>\n",
       "      <th>danceability</th>\n",
       "      <th>energy</th>\n",
       "      <th>acousticness</th>\n",
       "      <th>valence</th>\n",
       "    </tr>\n",
       "  </thead>\n",
       "  <tbody>\n",
       "    <tr>\n",
       "      <th>0</th>\n",
       "      <td>1998</td>\n",
       "      <td>0.727000</td>\n",
       "      <td>0.445000</td>\n",
       "      <td>0.339000</td>\n",
       "      <td>0.527000</td>\n",
       "    </tr>\n",
       "    <tr>\n",
       "      <th>1</th>\n",
       "      <td>1999</td>\n",
       "      <td>0.668974</td>\n",
       "      <td>0.738421</td>\n",
       "      <td>0.143688</td>\n",
       "      <td>0.574008</td>\n",
       "    </tr>\n",
       "    <tr>\n",
       "      <th>2</th>\n",
       "      <td>2000</td>\n",
       "      <td>0.689824</td>\n",
       "      <td>0.748257</td>\n",
       "      <td>0.118339</td>\n",
       "      <td>0.647973</td>\n",
       "    </tr>\n",
       "    <tr>\n",
       "      <th>3</th>\n",
       "      <td>2001</td>\n",
       "      <td>0.674130</td>\n",
       "      <td>0.724631</td>\n",
       "      <td>0.145060</td>\n",
       "      <td>0.661041</td>\n",
       "    </tr>\n",
       "    <tr>\n",
       "      <th>4</th>\n",
       "      <td>2002</td>\n",
       "      <td>0.675244</td>\n",
       "      <td>0.722567</td>\n",
       "      <td>0.144033</td>\n",
       "      <td>0.575156</td>\n",
       "    </tr>\n",
       "  </tbody>\n",
       "</table>\n",
       "</div>"
      ],
      "text/plain": [
       "   year  danceability    energy  acousticness   valence\n",
       "0  1998      0.727000  0.445000      0.339000  0.527000\n",
       "1  1999      0.668974  0.738421      0.143688  0.574008\n",
       "2  2000      0.689824  0.748257      0.118339  0.647973\n",
       "3  2001      0.674130  0.724631      0.145060  0.661041\n",
       "4  2002      0.675244  0.722567      0.144033  0.575156"
      ]
     },
     "execution_count": 44,
     "metadata": {},
     "output_type": "execute_result"
    }
   ],
   "source": [
    "year_mean = df_songs[['danceability','energy','acousticness', 'valence','year']].groupby('year').mean().sort_values(by='year').reset_index()\n",
    "year_mean.head()"
   ]
  },
  {
   "cell_type": "code",
   "execution_count": 45,
   "metadata": {},
   "outputs": [
    {
     "data": {
      "text/plain": [
       "<matplotlib.legend.Legend at 0x7fa6894d7a50>"
      ]
     },
     "execution_count": 45,
     "metadata": {},
     "output_type": "execute_result"
    },
    {
     "data": {
      "image/png": "[encoded data removed]",
      "text/plain": [
       "<Figure size 1008x576 with 1 Axes>"
      ]
     },
     "metadata": {
      "needs_background": "light"
     },
     "output_type": "display_data"
    }
   ],
   "source": [
    "plt.figure(figsize=(14,8))\n",
    "plt.title(\"Características das Músicas ao longo dos Anos\", fontsize=15)\n",
    "linhas = ['danceability','energy','acousticness','valence']\n",
    "\n",
    "for linha in linhas:\n",
    "    ax = sns.lineplot(x='year', y=linha, data=year_mean)\n",
    "    \n",
    "plt.legend(linhas)"
   ]
  },
  {
   "cell_type": "code",
   "execution_count": 85,
   "metadata": {},
   "outputs": [],
   "source": [
    "freq_artists = df_songs.artist.value_counts().nlargest(20)\n",
    "\n",
    "#Criamos um subconjunto do df_songs com os 20 artistas mais frequentes\n",
    "freq_artists_d = df_songs[df_songs.artist.isin(list(freq_artists.index))]"
   ]
  },
  {
   "cell_type": "code",
   "execution_count": 41,
   "metadata": {},
   "outputs": [
    {
     "name": "stdout",
     "output_type": "stream",
     "text": [
      "                   n_songs  popularity\n",
      "Ariana Grande           14   54.214286\n",
      "Beyoncé                 16   64.375000\n",
      "Black Eyed Peas         14   65.500000\n",
      "Britney Spears          19   63.052632\n",
      "Bruno Mars              12   78.166667\n",
      "Calvin Harris           20   67.800000\n",
      "Chris Brown             17   63.529412\n",
      "Coldplay                13   75.307692\n",
      "David Guetta            18   65.833333\n",
      "Drake                   23   61.913043\n",
      "Eminem                  21   72.333333\n",
      "JAY-Z                   12   67.750000\n",
      "Jason Derulo            13   63.384615\n",
      "Justin Timberlake       12   70.583333\n",
      "Kanye West              17   61.705882\n",
      "Katy Perry              16   64.562500\n",
      "Maroon 5                13   55.769231\n",
      "P!nk                    15   52.266667\n",
      "Rihanna                 25   72.120000\n",
      "Taylor Swift            16   70.312500\n"
     ]
    }
   ],
   "source": [
    "art_nsongs_pop = pd.DataFrame({'n_songs':freq_artists, 'popularity':freq_artists_d.groupby('artist').mean().popularity})\n",
    "print(art_nsongs_pop) \n"
   ]
  },
  {
   "cell_type": "code",
   "execution_count": 47,
   "metadata": {},
   "outputs": [
    {
     "data": {
      "text/plain": [
       "artist\n",
       "Ariana Grande        54.214286\n",
       "Beyoncé              64.375000\n",
       "Black Eyed Peas      65.500000\n",
       "Britney Spears       63.052632\n",
       "Bruno Mars           78.166667\n",
       "Calvin Harris        67.800000\n",
       "Chris Brown          63.529412\n",
       "Coldplay             75.307692\n",
       "David Guetta         65.833333\n",
       "Drake                61.913043\n",
       "Eminem               72.333333\n",
       "JAY-Z                67.750000\n",
       "Jason Derulo         63.384615\n",
       "Justin Timberlake    70.583333\n",
       "Kanye West           61.705882\n",
       "Katy Perry           64.562500\n",
       "Maroon 5             55.769231\n",
       "P!nk                 52.266667\n",
       "Rihanna              72.120000\n",
       "Taylor Swift         70.312500\n",
       "Name: popularity, dtype: float64"
      ]
     },
     "execution_count": 47,
     "metadata": {},
     "output_type": "execute_result"
    }
   ],
   "source": [
    "#freq_artists_d.groupby('artist').popularity.mean()"
   ]
  },
  {
   "cell_type": "code",
   "execution_count": 86,
   "metadata": {},
   "outputs": [],
   "source": [
    "art_nsongs_pop = art_nsongs_pop.sort_values('n_songs')"
   ]
  },
  {
   "cell_type": "code",
   "execution_count": 96,
   "metadata": {},
   "outputs": [
    {
     "data": {
      "image/png": "[encoded data removed]",
      "text/plain": [
       "<Figure size 720x360 with 2 Axes>"
      ]
     },
     "metadata": {
      "needs_background": "light"
     },
     "output_type": "display_data"
    }
   ],
   "source": [
    "fig, axes = plt.subplots(ncols=2, sharey=True, figsize=(10,5))\n",
    "sns.barplot(data = art_nsongs_pop, y = art_nsongs_pop.index, x ='popularity', orient='h', ax = axes[0])\n",
    "axes[0].set_title('Popularidade',fontsize = 12)\n",
    "axes[0].tick_params(axis='y', pad=10,labelsize =12)\n",
    "axes[0].tick_params(axis='x',labelsize =12)\n",
    "axes[0].set_xlabel('')\n",
    "axes[0].invert_xaxis()\n",
    "\n",
    "sns.barplot(data = art_nsongs_pop, y = art_nsongs_pop.index, x ='n_songs', orient='h', ax = axes[1])\n",
    "axes[1].set_title('Quantidade de músicas',fontsize = 12)\n",
    "axes[1].tick_params(axis='y', pad=10,labelsize =12)\n",
    "axes[1].tick_params(axis='x',labelsize =12)\n",
    "axes[1].set_xlabel('')\n",
    "    \n",
    "fig.tight_layout()\n",
    "fig.subplots_adjust(wspace=0.003)"
   ]
  },
  {
   "cell_type": "code",
   "execution_count": 51,
   "metadata": {},
   "outputs": [
    {
     "data": {
      "text/html": [
       "<div>\n",
       "<style scoped>\n",
       "    .dataframe tbody tr th:only-of-type {\n",
       "        vertical-align: middle;\n",
       "    }\n",
       "\n",
       "    .dataframe tbody tr th {\n",
       "        vertical-align: top;\n",
       "    }\n",
       "\n",
       "    .dataframe thead th {\n",
       "        text-align: right;\n",
       "    }\n",
       "</style>\n",
       "<table border=\"1\" class=\"dataframe\">\n",
       "  <thead>\n",
       "    <tr style=\"text-align: right;\">\n",
       "      <th></th>\n",
       "      <th>artist</th>\n",
       "      <th>year</th>\n",
       "      <th>song_count</th>\n",
       "    </tr>\n",
       "  </thead>\n",
       "  <tbody>\n",
       "    <tr>\n",
       "      <th>0</th>\n",
       "      <td>Britney Spears</td>\n",
       "      <td>1999</td>\n",
       "      <td>1</td>\n",
       "    </tr>\n",
       "    <tr>\n",
       "      <th>1</th>\n",
       "      <td>Britney Spears</td>\n",
       "      <td>2000</td>\n",
       "      <td>2</td>\n",
       "    </tr>\n",
       "    <tr>\n",
       "      <th>2</th>\n",
       "      <td>Britney Spears</td>\n",
       "      <td>2001</td>\n",
       "      <td>3</td>\n",
       "    </tr>\n",
       "    <tr>\n",
       "      <th>3</th>\n",
       "      <td>Britney Spears</td>\n",
       "      <td>2003</td>\n",
       "      <td>3</td>\n",
       "    </tr>\n",
       "    <tr>\n",
       "      <th>4</th>\n",
       "      <td>Britney Spears</td>\n",
       "      <td>2004</td>\n",
       "      <td>1</td>\n",
       "    </tr>\n",
       "  </tbody>\n",
       "</table>\n",
       "</div>"
      ],
      "text/plain": [
       "           artist  year  song_count\n",
       "0  Britney Spears  1999           1\n",
       "1  Britney Spears  2000           2\n",
       "2  Britney Spears  2001           3\n",
       "3  Britney Spears  2003           3\n",
       "4  Britney Spears  2004           1"
      ]
     },
     "execution_count": 51,
     "metadata": {},
     "output_type": "execute_result"
    }
   ],
   "source": [
    "artist_list = df_songs.artist.value_counts().index[:5]\n",
    "df_songs.artist.value_counts()[:5]\n",
    "df_artist = df_songs[df_songs.artist.isin(artist_list)][['artist','year','energy']].groupby(['artist','year']).count().reset_index()\n",
    "df_artist.rename(columns={'energy':'song_count'}, inplace=True)\n",
    "df_artist.head()\n"
   ]
  },
  {
   "cell_type": "code",
   "execution_count": 52,
   "metadata": {},
   "outputs": [
    {
     "data": {
      "text/plain": [
       "<AxesSubplot:xlabel='year', ylabel='song_count'>"
      ]
     },
     "execution_count": 52,
     "metadata": {},
     "output_type": "execute_result"
    },
    {
     "data": {
      "image/png": "[encoded data removed]",
      "text/plain": [
       "<Figure size 1152x576 with 1 Axes>"
      ]
     },
     "metadata": {
      "needs_background": "light"
     },
     "output_type": "display_data"
    }
   ],
   "source": [
    "plt.figure(figsize=(16,8))\n",
    "sns.lineplot(x='year', y='song_count', hue='artist', data=df_artist)"
   ]
  },
  {
   "cell_type": "code",
   "execution_count": null,
   "metadata": {},
   "outputs": [
    {
     "data": {
      "image/png": "[encoded data removed]",
      "text/plain": [
       "<Figure size 432x864 with 1 Axes>"
      ]
     },
     "metadata": {
      "needs_background": "light"
     },
     "output_type": "display_data"
    }
   ],
   "source": []
  },
  {
   "cell_type": "code",
   "execution_count": 110,
   "metadata": {},
   "outputs": [
    {
     "data": {
      "text/plain": [
       "array([[<AxesSubplot:title={'center':'danceability'}>,\n",
       "        <AxesSubplot:title={'center':'energy'}>],\n",
       "       [<AxesSubplot:title={'center':'acousticness'}>,\n",
       "        <AxesSubplot:title={'center':'valence'}>]], dtype=object)"
      ]
     },
     "execution_count": 110,
     "metadata": {},
     "output_type": "execute_result"
    },
    {
     "data": {
      "image/png": "[encoded data removed]",
      "text/plain": [
       "<Figure size 1440x1440 with 4 Axes>"
      ]
     },
     "metadata": {
      "needs_background": "light"
     },
     "output_type": "display_data"
    }
   ],
   "source": [
    "df_songs[['danceability','energy','acousticness', 'valence']].plot(kind='bar', subplots=True, layout=(2, 2), figsize=(20,20), sharey=True)"
   ]
  },
  {
   "cell_type": "code",
   "execution_count": null,
   "metadata": {},
   "outputs": [],
   "source": []
  }
 ],
 "metadata": {
  "interpreter": {
   "hash": "aee8b7b246df8f9039afb4144a1f6fd8d2ca17a180786b69acc140d282b71a49"
  },
  "kernelspec": {
   "display_name": "Python 3.7.9 64-bit",
   "language": "python",
   "name": "python3"
  },
  "language_info": {
   "codemirror_mode": {
    "name": "ipython",
    "version": 3
   },
   "file_extension": ".py",
   "mimetype": "text/x-python",
   "name": "python",
   "nbconvert_exporter": "python",
   "pygments_lexer": "ipython3",
   "version": "3.7.9"
  },
  "orig_nbformat": 4
 },
 "nbformat": 4,
 "nbformat_minor": 2
}
